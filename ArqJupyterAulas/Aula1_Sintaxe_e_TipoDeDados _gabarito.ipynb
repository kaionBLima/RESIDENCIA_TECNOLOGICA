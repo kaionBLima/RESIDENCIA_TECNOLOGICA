{
  "cells": [
    {
      "cell_type": "markdown",
      "id": "b13c0457",
      "metadata": {
        "id": "b13c0457"
      },
      "source": [
        "\n",
        "# Introdução à Linguagem Python\n",
        "\n",
        "Python é uma linguagem de programação de alto nível, amplamente conhecida por sua simplicidade e legibilidade, sendo ideal tanto para iniciantes quanto para desenvolvedores experientes. Como uma linguagem interpretada, o código é executado diretamente, linha por linha, sem a necessidade de compilação prévia, o que facilita o processo de desenvolvimento e depuração. Além disso, Python é de propósito geral, o que significa que pode ser utilizada em uma ampla variedade de aplicações, incluindo desenvolvimento web, automação de tarefas, análise de dados, inteligência artificial, aprendizado de máquina, entre outros. Sua extensa biblioteca padrão e a grande comunidade de desenvolvedores contribuem para sua popularidade e versatilidade no mundo da programação.\n"
      ]
    },
    {
      "cell_type": "markdown",
      "id": "d43dbf3b",
      "metadata": {
        "id": "d43dbf3b"
      },
      "source": [
        "\n",
        "## Sintaxe Básica\n",
        "\n",
        "A sintaxe do Python é conhecida por ser clara e de fácil leitura. Vamos começar com o básico, como imprimir uma mensagem no console.\n",
        "\n",
        "### O primeiro código em Python: `print`\n"
      ]
    },
    {
      "cell_type": "code",
      "execution_count": 2,
      "id": "6376b488",
      "metadata": {
        "ExecuteTime": {
          "end_time": "2024-09-19T04:44:43.712240900Z",
          "start_time": "2024-09-19T04:44:43.656483100Z"
        },
        "colab": {
          "base_uri": "https://localhost:8080/"
        },
        "id": "6376b488",
        "outputId": "34c57f2c-0200-4c4c-ef90-68dd921471f3"
      },
      "outputs": [
        {
          "name": "stdout",
          "output_type": "stream",
          "text": [
            "Hello, World!\n"
          ]
        }
      ],
      "source": [
        "# Código para exibir uma mensagem\n",
        "print(\"Hello, World!\")"
      ]
    },
    {
      "cell_type": "markdown",
      "id": "a056697c",
      "metadata": {
        "id": "a056697c"
      },
      "source": [
        "\n",
        "### Comentários\n",
        "Em Python, comentários são iniciados com o símbolo `#`. Eles são ignorados pelo interpretador e servem para documentar o código.\n"
      ]
    },
    {
      "cell_type": "code",
      "execution_count": 3,
      "id": "fc7a5fe4",
      "metadata": {
        "ExecuteTime": {
          "end_time": "2024-09-19T04:44:43.712240900Z",
          "start_time": "2024-09-19T04:44:43.665462500Z"
        },
        "id": "fc7a5fe4"
      },
      "outputs": [],
      "source": [
        "# Este é um comentário de uma linha\n",
        "# print(\"Este código não será executado.\")"
      ]
    },
    {
      "cell_type": "markdown",
      "id": "b41a1d5d",
      "metadata": {
        "id": "b41a1d5d"
      },
      "source": [
        "\n",
        "## Tipos de Dados\n",
        "\n",
        "Python tem vários tipos de dados embutidos. Vamos ver os mais comuns:\n",
        "\n",
        "- **Inteiros**: números inteiros, como `42`.\n",
        "- **Floats**: números com ponto flutuante, como `3.14`.\n",
        "- **Strings**: cadeias de texto, como `\"Python\"`.\n",
        "- **Booleans**: valores booleanos, `True` ou `False`.\n"
      ]
    },
    {
      "cell_type": "code",
      "execution_count": 4,
      "id": "90918b54",
      "metadata": {
        "ExecuteTime": {
          "end_time": "2024-09-19T04:44:43.713245900Z",
          "start_time": "2024-09-19T04:44:43.673692100Z"
        },
        "colab": {
          "base_uri": "https://localhost:8080/"
        },
        "id": "90918b54",
        "outputId": "29bef1ef-226c-4bf1-f212-1a665c9b2d76"
      },
      "outputs": [
        {
          "name": "stdout",
          "output_type": "stream",
          "text": [
            "<class 'int'>\n",
            "<class 'float'>\n",
            "<class 'str'>\n",
            "<class 'bool'>\n"
          ]
        }
      ],
      "source": [
        "# Exemplos de tipos de dados\n",
        "inteiro = 10\n",
        "float_num = 3.14\n",
        "string = \"Python é divertido!\"\n",
        "booleano = True\n",
        "\n",
        "print(type(inteiro))   # <class 'int'>\n",
        "print(type(float_num)) # <class 'float'>\n",
        "print(type(string))    # <class 'str'>\n",
        "print(type(booleano))  # <class 'bool'>"
      ]
    },
    {
      "cell_type": "markdown",
      "id": "navPam4Z0S06",
      "metadata": {
        "id": "navPam4Z0S06"
      },
      "source": [
        "##Receber Dados Pelo Terminal"
      ]
    },
    {
      "cell_type": "code",
      "execution_count": null,
      "id": "kcasKqvM0Whh",
      "metadata": {
        "colab": {
          "base_uri": "https://localhost:8080/"
        },
        "id": "kcasKqvM0Whh",
        "outputId": "c67ab4b2-9f36-41f5-fcfe-4973d71b3539"
      },
      "outputs": [
        {
          "name": "stdout",
          "output_type": "stream",
          "text": [
            "Digite seu nome: lucas\n"
          ]
        }
      ],
      "source": [
        "nome = input(\"Digite seu nome: \")\n",
        "print(nome)"
      ]
    },
    {
      "cell_type": "markdown",
      "id": "c0fc75d1",
      "metadata": {
        "id": "c0fc75d1"
      },
      "source": [
        "\n",
        "### Conversão de Tipos\n",
        "\n",
        "Às vezes, é necessário converter um tipo de dado para outro. Isso é feito de forma explícita em Python.\n",
        "\n",
        "- `int()`: converte para inteiro.\n",
        "- `float()`: converte para float.\n",
        "- `str()`: converte para string.\n"
      ]
    },
    {
      "cell_type": "code",
      "execution_count": 14,
      "id": "68e22935",
      "metadata": {
        "ExecuteTime": {
          "end_time": "2024-09-19T04:44:43.715242900Z",
          "start_time": "2024-09-19T04:44:43.681224200Z"
        },
        "colab": {
          "base_uri": "https://localhost:8080/"
        },
        "id": "68e22935",
        "outputId": "b191ad04-c283-41a6-aedb-1571b1c37fbc"
      },
      "outputs": [
        {
          "name": "stdout",
          "output_type": "stream",
          "text": [
            "5\n",
            "<class 'float'>\n",
            "10.0\n",
            "<class 'int'>\n",
            "123\n",
            "<class 'int'>\n",
            "\n",
            "\n",
            " Variável x: 5 Tipo: <class 'int'> \n",
            "\n",
            " Variável y: 10.0 Tipo: <class 'float'> \n",
            "\n",
            " Variável z: 123 Tipo: <class 'str'>\n"
          ]
        }
      ],
      "source": [
        "# Conversão de tipos de dados\n",
        "x = 5.8\n",
        "print(int(x))    # Converte float para inteiro\n",
        "print(type(x))   \n",
        "\n",
        "y = 10\n",
        "print(float(y))  # Converte inteiro para float\n",
        "print(type(y))  \n",
        "\n",
        "\n",
        "z = 123\n",
        "print(str(z))    # Converte inteiro para string\n",
        "print(type(z))   \n",
        "\n",
        "#Por mas que printe o valor convertido, ele não foi definido na variável.\n",
        "\n",
        "#Conversão de Valores\n",
        "x = int(x)   # X que anteriormente era float, agora é int\n",
        "y = float(y) # Y que anteriormente era int, agora é float\n",
        "z = str(z)   # Z que anteriormente era int, agora é str\n",
        "\n",
        "#Impressão de múltiplos valores\n",
        "print(f\"\\n\\n Variável x: {x} Tipo: {type(x)} \\n\\n Variável y: {y} Tipo: {type(y)} \\n\\n Variável z: {z} Tipo: {type(z)}\")"
      ]
    },
    {
      "cell_type": "markdown",
      "id": "c9f3ba0f",
      "metadata": {
        "id": "c9f3ba0f"
      },
      "source": [
        "\n",
        "## Variáveis\n",
        "\n",
        "Variáveis são usadas para armazenar valores. Em Python, você não precisa declarar o tipo da variável; o interpretador deduz o tipo com base no valor atribuído.\n",
        "\n",
        "### Nomeação de Variáveis\n",
        "\n",
        "As variáveis devem começar com uma letra ou sublinhado (`_`) e não podem conter espaços. Nomes de variáveis são sensíveis a maiúsculas e minúsculas.\n",
        "\n",
        "### Atribuição Múltipla\n",
        "\n",
        "Python permite atribuir valores a múltiplas variáveis ao mesmo tempo.\n"
      ]
    },
    {
      "cell_type": "code",
      "execution_count": 12,
      "id": "2ca8dd45",
      "metadata": {
        "ExecuteTime": {
          "end_time": "2024-09-19T04:44:43.721490600Z",
          "start_time": "2024-09-19T04:44:43.691598200Z"
        },
        "colab": {
          "base_uri": "https://localhost:8080/"
        },
        "id": "2ca8dd45",
        "outputId": "ec63fc77-45a2-4d31-a254-843fa745c6f4"
      },
      "outputs": [
        {
          "name": "stdout",
          "output_type": "stream",
          "text": [
            "10 20 Python\n",
            "1 2 3\n"
          ]
        }
      ],
      "source": [
        "# Exemplo de variáveis\n",
        "a = 10\n",
        "b = 20\n",
        "nome = \"Python\"\n",
        "\n",
        "# Atribuição múltipla\n",
        "x, y, z = 1, 2, 3\n",
        "\n",
        "print(a, b, nome)\n",
        "print(x, y, z)"
      ]
    },
    {
      "cell_type": "markdown",
      "id": "ec6ddc39",
      "metadata": {
        "id": "ec6ddc39"
      },
      "source": [
        "\n",
        "## Operadores\n",
        "\n",
        "### Operadores Aritméticos\n",
        "- `+`: Adição\n",
        "- `-`: Subtração\n",
        "- `*`: Multiplicação\n",
        "- `/`: Divisão\n",
        "- `%`: Módulo (resto da divisão)\n",
        "\n",
        "### Operadores de Comparação\n",
        "- `==`: Igual a\n",
        "- `!=`: Diferente de\n",
        "- `>`: Maior que\n",
        "- `<`: Menor que\n",
        "\n",
        "### Operadores Lógicos\n",
        "- `and`: Retorna `True` se ambas as expressões forem verdadeiras.\n",
        "- `or`: Retorna `True` se uma das expressões for verdadeira.\n",
        "- `not`: Inverte o valor lógico.\n"
      ]
    },
    {
      "cell_type": "code",
      "execution_count": 14,
      "id": "481ab310",
      "metadata": {
        "ExecuteTime": {
          "end_time": "2024-09-19T04:44:43.722491100Z",
          "start_time": "2024-09-19T04:44:43.706080200Z"
        },
        "colab": {
          "base_uri": "https://localhost:8080/"
        },
        "id": "481ab310",
        "outputId": "356192ea-7837-4760-d5d1-f894022d02e3"
      },
      "outputs": [
        {
          "name": "stdout",
          "output_type": "stream",
          "text": [
            "Adição: 15\n",
            "Subtração: 5\n",
            "x é igual a y? False\n",
            "x é maior que y? True\n",
            "x > 5 e y < 10? True\n",
            "x < 5 ou y < 10? False\n"
          ]
        }
      ],
      "source": [
        "# Exemplos de operadores\n",
        "x = 10\n",
        "y = 5\n",
        "\n",
        "# Operadores aritméticos\n",
        "print(\"Adição:\", x + y)\n",
        "print(\"Subtração:\", x - y)\n",
        "\n",
        "# Operadores de comparação\n",
        "print(\"x é igual a y?\", x == y)\n",
        "print(\"x é maior que y?\", x > y)\n",
        "\n",
        "# Operadores lógicos\n",
        "print(\"x > 5 e y < 10?\", x > 5 and y < 10)\n",
        "print(\"x < 5 ou y < 10?\", x < 5 and y < 10)"
      ]
    },
    {
      "cell_type": "markdown",
      "id": "4abe78a0",
      "metadata": {
        "id": "4abe78a0"
      },
      "source": [
        "\n",
        "## Estruturas de Controle: Condicionais\n",
        "\n",
        "As estruturas condicionais permitem executar um bloco de código dependendo se uma condição é verdadeira ou falsa.\n",
        "\n",
        "### `if`, `elif`, e `else`\n"
      ]
    },
    {
      "cell_type": "code",
      "execution_count": 15,
      "id": "50f8c801",
      "metadata": {
        "ExecuteTime": {
          "end_time": "2024-09-19T04:44:43.723492200Z",
          "start_time": "2024-09-19T04:44:43.714242200Z"
        },
        "colab": {
          "base_uri": "https://localhost:8080/"
        },
        "id": "50f8c801",
        "outputId": "5b74a4d8-53cf-4887-ac51-cc28b4dc2ee9"
      },
      "outputs": [
        {
          "name": "stdout",
          "output_type": "stream",
          "text": [
            "x é menor que 5\n",
            "Malvezzi gosta Mesmo\n"
          ]
        }
      ],
      "source": [
        "# Exemplo de condicional\n",
        "x = 3\n",
        "nome = \"Lucas\"\n",
        "if x >= 5:\n",
        "    print(\"x é maior que 5\")\n",
        "elif x == 5:\n",
        "    print(\"x é igual a 5\")\n",
        "else:\n",
        "    print(\"x é menor que 5\")\n",
        "\n",
        "#Se a condição é verdadeiro a estrutura de controle executa o bloco de código correspondente.\n",
        "MalvezziGostaDeJs = True\n",
        "if MalvezziGostaDeJs:\n",
        "    print(\"Malvezzi gosta Mesmo\")"
      ]
    },
    {
      "cell_type": "markdown",
      "id": "01f21d00",
      "metadata": {
        "id": "01f21d00"
      },
      "source": [
        "\n",
        "## Estruturas de Controle: Loops\n",
        "\n",
        "### `for` loops\n",
        "Um `for` loop é usado para iterar sobre uma sequência (como uma lista, tupla, dicionário ou string).\n",
        "\n",
        "### `while` loops\n",
        "Um `while` loop executa enquanto a condição for verdadeira.\n",
        "\n",
        "### Interrupção de Loops\n",
        "- `break`: Interrompe o loop imediatamente.\n",
        "- `continue`: Pula para a próxima iteração do loop.\n"
      ]
    },
    {
      "cell_type": "code",
      "execution_count": null,
      "id": "c979fad4",
      "metadata": {
        "ExecuteTime": {
          "end_time": "2024-09-19T04:44:43.732432300Z",
          "start_time": "2024-09-19T04:44:43.723492200Z"
        },
        "colab": {
          "base_uri": "https://localhost:8080/"
        },
        "id": "c979fad4",
        "outputId": "c756db24-c886-4be0-e77e-641c63c630c1"
      },
      "outputs": [
        {
          "name": "stdout",
          "output_type": "stream",
          "text": [
            "Iteração 0\n",
            "Iteração 1\n",
            "Iteração 2\n",
            "Iteração 3\n",
            "Iteração 4\n",
            "Contagem 0\n",
            "Contagem 1\n",
            "Contagem 2\n",
            "Contagem 3\n",
            "Contagem 4\n",
            "0\n",
            "1\n",
            "2\n",
            "4\n",
            "5\n",
            "6\n",
            "7\n"
          ]
        }
      ],
      "source": [
        "# Exemplo de for loop\n",
        "for i in range(5):\n",
        "    print(f\"Iteração {i}\")\n",
        "\n",
        "# Exemplo de while loop\n",
        "count = 0\n",
        "while count < 5:\n",
        "    print(f\"Contagem {count}\")\n",
        "    count += 1\n",
        "\n",
        "# Uso de break e continue\n",
        "for i in range(10):\n",
        "    if i == 3:\n",
        "        continue  # Pula o valor 3\n",
        "    if i == 8:\n",
        "        break  # Interrompe o loop ao chegar em 8\n",
        "    print(i)"
      ]
    },
    {
      "cell_type": "markdown",
      "id": "kchiRmm20fwq",
      "metadata": {
        "id": "kchiRmm20fwq"
      },
      "source": [
        "## Crie uma calculadora que seja executado da seguinte maneira:\n",
        "\n",
        "Escolha uma operação:\n",
        "1. Adição (+) se o tipo for string(concatenação)\n",
        "2. Subtração (-)\n",
        "3. Multiplicação (*)\n",
        "4. Divisão (/)\n",
        "\n",
        "Digite a operação desejada (+, -, *, /): *\n",
        "\n",
        "Digite o primeiro número: 10\n",
        "\n",
        "Digite o segundo número: 5\n",
        "\n",
        "Resultado: 10 * 5 = 50"
      ]
    },
    {
      "cell_type": "code",
      "execution_count": 7,
      "id": "a603b182",
      "metadata": {},
      "outputs": [
        {
          "name": "stdout",
          "output_type": "stream",
          "text": [
            "Adição, quando duas ou mais variáveis são do tipo numérico\n",
            "30\n",
            "<class 'int'>\n",
            "\n",
            "Concateção, quando as duas ou mais variáveis são do tipo string\n",
            "\n",
            "1010\n",
            "Malvezzi ama Front-end\n"
          ]
        }
      ],
      "source": [
        "#Duas ou mais variáveis do tipo numérico --> Adição\n",
        "print(\"Adição, quando duas ou mais variáveis são do tipo numérico\")\n",
        "a = 10 + 20 \n",
        "print(a)\n",
        "print(type(a))\n",
        "\n",
        "# Quando pelo menos uma variável é do tipo string) --> concatenação\n",
        "print(\"\\nConcateção, quando as duas ou mais variáveis são do tipo string\\n\")\n",
        "b = '10' + '10' \n",
        "print(b)\n",
        "\n",
        "#Vamos trabalhar com um exemplo real de concatenação:\n",
        "nome = 'Malvezzi '\n",
        "materiaFavorita = 'Front-end'\n",
        "print(nome + \"ama \"+ materiaFavorita)\n"
      ]
    },
    {
      "cell_type": "code",
      "execution_count": null,
      "id": "d-hFitxOH6Ax",
      "metadata": {
        "colab": {
          "base_uri": "https://localhost:8080/"
        },
        "id": "d-hFitxOH6Ax",
        "outputId": "76e68409-1c86-4bef-a05a-6528f431baa7"
      },
      "outputs": [
        {
          "name": "stdout",
          "output_type": "stream",
          "text": [
            "Digite a operação desejada (+, -, *, /): 5\n",
            "Digite o primeiro número: 2\n",
            "Digite o segundo número: 1\n",
            "\n",
            "Operador 5 inválido, tente novamente: \n",
            "\n",
            "\n"
          ]
        }
      ],
      "source": [
        "while True:\n",
        "  operacao = input(\"Digite a operação desejada (+, -, *, /): \")\n",
        "  primeiro_numero = input(\"Digite o primeiro número: \")\n",
        "  segundo_numero = input(\"Digite o segundo número: \")\n",
        "  if operacao == '+':\n",
        "    resultado = float(primeiro_numero) + float(segundo_numero)\n",
        "    print(f\"Resultado: {primeiro_numero} {operacao} {segundo_numero} = \", resultado)\n",
        "    break\n",
        "  elif operacao == '-':\n",
        "    resultado = float(primeiro_numero) - float(segundo_numero)\n",
        "    print(f\"Resultado: {primeiro_numero} {operacao} {segundo_numero} = \", resultado)\n",
        "    break\n",
        "  elif operacao == '*':\n",
        "    resultado = float(primeiro_numero) * float(segundo_numero)\n",
        "    print(f\"Resultado: {primeiro_numero} {operacao} {segundo_numero} = \", resultado)\n",
        "    break\n",
        "  elif operacao == '/':\n",
        "    resultado = float(primeiro_numero) / float(segundo_numero)\n",
        "    print(f\"Resultado: {primeiro_numero} {operacao} {segundo_numero} = \", resultado)\n",
        "    break\n",
        "  else:\n",
        "    print(f\"\\nOperador {operacao} inválido, tente novamente: \\n\\n\")\n",
        "print()"
      ]
    }
  ],
  "metadata": {
    "colab": {
      "provenance": []
    },
    "kernelspec": {
      "display_name": "base",
      "language": "python",
      "name": "python3"
    },
    "language_info": {
      "codemirror_mode": {
        "name": "ipython",
        "version": 3
      },
      "file_extension": ".py",
      "mimetype": "text/x-python",
      "name": "python",
      "nbconvert_exporter": "python",
      "pygments_lexer": "ipython3",
      "version": "3.12.4"
    }
  },
  "nbformat": 4,
  "nbformat_minor": 5
}
