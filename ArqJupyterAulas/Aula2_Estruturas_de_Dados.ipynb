{
  "cells": [
    {
      "cell_type": "markdown",
      "id": "5507ed2e",
      "metadata": {
        "id": "5507ed2e"
      },
      "source": [
        "\n",
        "# Aula 2 - Estruturas de Dados em Python\n",
        "\n",
        "Nesta aula, vamos explorar as principais estruturas de dados em Python e aprender como manipulá-las.\n",
        "Serão abordados os seguintes tópicos:\n",
        "\n",
        "- Listas\n",
        "- Dicionários\n",
        "- Tuplas\n",
        "- Conjuntos\n",
        "\n",
        "Vamos também discutir operações básicas e métodos úteis, além de trabalhar com compreensão de listas e manipulação de estruturas de dados.\n",
        "\n",
        "---\n",
        "## Estruturas de Dados em Python\n",
        "Python oferece várias estruturas de dados incorporadas, que permitem organizar e armazenar dados de maneiras diferentes. Vamos começar com as listas.\n"
      ]
    },
    {
      "cell_type": "markdown",
      "id": "dbf1e222",
      "metadata": {
        "id": "dbf1e222"
      },
      "source": [
        "\n",
        "## Listas\n",
        "\n",
        "Listas são coleções mutáveis que podem conter itens de tipos diferentes. Elas são definidas com colchetes `[]`.\n",
        "\n",
        "### Operações básicas com listas:\n"
      ]
    },
    {
      "cell_type": "code",
      "execution_count": null,
      "id": "1d28b60d",
      "metadata": {
        "id": "1d28b60d"
      },
      "outputs": [],
      "source": [
        "# Criando uma lista\n",
        "minha_lista = [1, 2, 3, 4, 5]\n",
        "\n",
        "# Acessando elementos da lista\n",
        "print(\"Primeiro elemento:\", minha_lista[0])\n",
        "print(\"Último elemento:\", minha_lista[-1])\n",
        "\n",
        "# Adicionando elementos à lista\n",
        "minha_lista.append(6)\n",
        "print(\"Lista após adicionar um elemento:\", minha_lista)\n",
        "\n",
        "# Removendo elementos da lista\n",
        "minha_lista.remove(3)\n",
        "print(\"Lista após remover o elemento 3:\", minha_lista)\n",
        "\n",
        "# Verificando se um elemento está na lista\n",
        "print(2 in minha_lista)\n",
        "\n",
        "# Tamanho da lista\n",
        "print(\"Tamanho da lista:\", len(minha_lista))"
      ]
    },
    {
      "cell_type": "markdown",
      "id": "ec7d4264",
      "metadata": {
        "id": "ec7d4264"
      },
      "source": [
        "\n",
        "### Métodos úteis para listas:\n",
        "\n",
        "- `append()`: Adiciona um elemento ao final da lista.\n",
        "- `remove()`: Remove o primeiro elemento da lista com o valor especificado.\n",
        "- `pop()`: Remove o último elemento (ou o elemento na posição especificada).\n",
        "- `sort()`: Ordena a lista.\n",
        "- `reverse()`: Inverte a ordem dos elementos da lista.\n"
      ]
    },
    {
      "cell_type": "code",
      "execution_count": null,
      "id": "c00d5656",
      "metadata": {
        "id": "c00d5656"
      },
      "outputs": [],
      "source": [
        "# Exemplo de uso de métodos úteis\n",
        "lista_exemplo = [5, 2, 9, 1, 5, 6]\n",
        "\n",
        "# Ordenando a lista\n",
        "lista_exemplo.sort()\n",
        "print(\"Lista ordenada:\", lista_exemplo)\n",
        "\n",
        "# Invertendo a lista\n",
        "lista_exemplo.reverse()\n",
        "print(\"Lista invertida:\", lista_exemplo)\n",
        "\n",
        "# Removendo o último elemento\n",
        "ultimo = lista_exemplo.pop()\n",
        "print(\"Último elemento removido:\", ultimo)\n",
        "print(\"Lista após remoção:\", lista_exemplo)"
      ]
    },
    {
      "cell_type": "markdown",
      "id": "d3cd6a4d",
      "metadata": {
        "id": "d3cd6a4d"
      },
      "source": [
        "\n",
        "## Dicionários\n",
        "\n",
        "Dicionários são coleções de pares chave-valor. São mutáveis e definidos com chaves `{}`.\n",
        "\n",
        "### Operações básicas com dicionários:\n"
      ]
    },
    {
      "cell_type": "code",
      "execution_count": null,
      "id": "8863b344",
      "metadata": {
        "id": "8863b344"
      },
      "outputs": [],
      "source": [
        "# Criando um dicionário\n",
        "meu_dict = {\"nome\": \"Ana\", \"idade\": 25, \"cidade\": \"São Paulo\"}\n",
        "\n",
        "# Acessando valores\n",
        "print(\"Nome:\", meu_dict[\"nome\"])\n",
        "\n",
        "# Adicionando um novo par chave-valor\n",
        "meu_dict[\"profissão\"] = \"Engenheira\"\n",
        "print(\"Dicionário atualizado:\", meu_dict)\n",
        "\n",
        "# Removendo um item\n",
        "del meu_dict[\"cidade\"]\n",
        "print(\"Dicionário após remoção:\", meu_dict)\n",
        "\n",
        "# Verificando se uma chave existe\n",
        "print(\"A chave 'idade' está no dicionário?\", \"idade\" in meu_dict)"
      ]
    },
    {
      "cell_type": "markdown",
      "id": "6bbc9536",
      "metadata": {
        "id": "6bbc9536"
      },
      "source": [
        "\n",
        "### Métodos úteis para dicionários:\n",
        "\n",
        "- `keys()`: Retorna todas as chaves do dicionário.\n",
        "- `values()`: Retorna todos os valores.\n",
        "- `items()`: Retorna todos os pares chave-valor.\n",
        "- `get()`: Retorna o valor de uma chave, ou um valor padrão se a chave não existir.\n"
      ]
    },
    {
      "cell_type": "code",
      "execution_count": null,
      "id": "4ad1bcf6",
      "metadata": {
        "id": "4ad1bcf6"
      },
      "outputs": [
        {
          "name": "stdout",
          "output_type": "stream",
          "text": [
            "Chaves: dict_keys(['nome', 'idade', 'cidade'])\n",
            "Valores: dict_values(['Ana', 25, 'São Paulo'])\n",
            "Itens: dict_items([('nome', 'Ana'), ('idade', 25), ('cidade', 'São Paulo')])\n",
            "Ana\n"
          ]
        }
      ],
      "source": [
        "# Exemplo de uso de métodos úteis\n",
        "meu_dict = {\"nome\": \"Ana\", \"idade\": 25, \"cidade\": \"São Paulo\"}\n",
        "\n",
        "# Obtendo todas as chaves\n",
        "print(\"Chaves:\", meu_dict.keys())\n",
        "\n",
        "# Obtendo todos os valores\n",
        "print(\"Valores:\", meu_dict.values())\n",
        "\n",
        "# Obtendo todos os pares chave-valor\n",
        "print(\"Itens:\", meu_dict.items())\n",
        "\n",
        "# Usando o método get()\n",
        "print(\"Profissão:\", meu_dict.get(\"profissão\", \"Não especificado\"))"
      ]
    },
    {
      "cell_type": "markdown",
      "id": "7e1e42c3",
      "metadata": {
        "id": "7e1e42c3"
      },
      "source": [
        "\n",
        "## Tuplas\n",
        "\n",
        "Tuplas são coleções imutáveis e ordenadas. Elas são definidas com parênteses `()`.\n",
        "\n",
        "### Operações básicas com tuplas:\n"
      ]
    },
    {
      "cell_type": "code",
      "execution_count": null,
      "id": "96695a11",
      "metadata": {
        "id": "96695a11"
      },
      "outputs": [
        {
          "name": "stdout",
          "output_type": "stream",
          "text": [
            "(1, 2, 3, 4) (5, 6, 7, 8)\n"
          ]
        }
      ],
      "source": [
        "# Criando uma tupla\n",
        "minha_tupla = (10, 20, 30)\n",
        "\n",
        "# Acessando elementos\n",
        "print(\"Primeiro elemento:\", minha_tupla[0])\n",
        "\n",
        "# Desempacotamento de tuplas\n",
        "a, b, c = minha_tupla\n",
        "print(f\"a = {a}, b = {b}, c = {c}\")\n",
        "\n",
        "# Tamanho da tupla\n",
        "print(\"Tamanho da tupla:\", len(minha_tupla))\n",
        "\n",
        "# Tentativa de modificar a tupla (gera um erro)\n",
        "# minha_tupla[0] = 100  # Isto causará um erro, pois tuplas são imutáveis\n"
      ]
    },
    {
      "cell_type": "markdown",
      "id": "c7d27728",
      "metadata": {
        "id": "c7d27728"
      },
      "source": [
        "\n",
        "## Conjuntos\n",
        "\n",
        "Conjuntos são coleções não ordenadas e sem duplicatas. Eles são definidos com chaves `{}`.\n",
        "\n",
        "### Operações básicas com conjuntos:\n"
      ]
    },
    {
      "cell_type": "code",
      "execution_count": null,
      "id": "31011909",
      "metadata": {
        "id": "31011909"
      },
      "outputs": [
        {
          "name": "stdout",
          "output_type": "stream",
          "text": [
            "Conjunto após adição: {1, 2, 3, 4, 5, 6}\n",
            "Conjunto após remoção: {1, 2, 4, 5, 6}\n",
            "True\n",
            "União: {1, 2, 4, 5, 6, 7}\n",
            "Interseção: {4, 5, 6}\n",
            "Diferença: {1, 2}\n"
          ]
        }
      ],
      "source": [
        "# Criando um conjunto\n",
        "meu_conjunto = {1, 2, 3, 4, 5}\n",
        "outro_conjunto = {4, 5, 6, 7}\n",
        "\n",
        "# Adicionando um elemento\n",
        "meu_conjunto.add(6)\n",
        "print(\"Conjunto após adição:\", meu_conjunto)\n",
        "\n",
        "# Removendo um elemento\n",
        "meu_conjunto.remove(3)\n",
        "print(\"Conjunto após remoção:\", meu_conjunto)\n",
        "\n",
        "# Verificando a existência de um elemento\n",
        "print(4 in meu_conjunto)\n",
        "\n",
        "# Operações de conjuntos\n",
        "print(\"União:\", meu_conjunto | outro_conjunto)\n",
        "print(\"Interseção:\", meu_conjunto & outro_conjunto)\n",
        "print(\"Diferença:\", meu_conjunto - outro_conjunto)"
      ]
    },
    {
      "cell_type": "markdown",
      "id": "1c453e3a",
      "metadata": {
        "id": "1c453e3a"
      },
      "source": [
        "\n",
        "## Compreensão de Listas\n",
        "\n",
        "Compreensão de listas (ou list comprehension) é uma forma concisa de criar listas com base em outras listas, usando uma sintaxe compacta.\n",
        "\n",
        "### Exemplo básico:\n"
      ]
    },
    {
      "cell_type": "code",
      "execution_count": 16,
      "id": "86b646fc",
      "metadata": {
        "id": "86b646fc"
      },
      "outputs": [
        {
          "name": "stdout",
          "output_type": "stream",
          "text": [
            "Quadrados de 0 a 9: [0, 1, 4, 9, 16, 25, 36, 49, 64, 81]\n",
            "Lista de dobro: [30, 40, 60, 80, 100]\n",
            "Lista de dobro com List Comprehension: [30, 40, 60, 80, 100]\n"
          ]
        }
      ],
      "source": [
        "# Criando uma lista de quadrados dos números de 0 a 9\n",
        "quadrados = [x**2 for x in range(10)]\n",
        "print(\"Quadrados de 0 a 9:\", quadrados)\n",
        "\n",
        "\n",
        "#Código anterior sem List Comprehension\n",
        "lista_precoProdutos = [15, 20 , 30, 40 , 50]\n",
        "lista_dobro = []\n",
        "for preco in lista_precoProdutos:\n",
        "    preco = preco * 2\n",
        "    lista_dobro.append(preco)\n",
        "\n",
        "print(\"Lista de dobro:\", lista_dobro)\n",
        "\n",
        "#Código com List Comprehesion\n",
        "list_comprehesion = [preco * 2 for preco in lista_precoProdutos]\n",
        "print(\"Lista de dobro com List Comprehension:\", list_comprehesion)\n",
        "    \n"
      ]
    },
    {
      "cell_type": "markdown",
      "id": "13523a8b",
      "metadata": {
        "id": "13523a8b"
      },
      "source": [
        "\n",
        "### Compreensão de listas com condição:\n"
      ]
    },
    {
      "cell_type": "code",
      "execution_count": null,
      "id": "f0d465d3",
      "metadata": {
        "id": "f0d465d3"
      },
      "outputs": [],
      "source": [
        "# Criando uma lista com números pares de 0 a 9\n",
        "pares = [x for x in range(10) if x % 2 == 0]\n",
        "print(\"Números pares de 0 a 9:\", pares)"
      ]
    },
    {
      "cell_type": "markdown",
      "id": "tjztlDcJ6UN4",
      "metadata": {
        "id": "tjztlDcJ6UN4"
      },
      "source": [
        "# DESAFIO: Sistema de Gerenciamento de Livros\n",
        "###Cenário\n",
        "Você está criando um sistema simples para gerenciar livros de uma biblioteca.\n",
        "\n",
        " Seu objetivo é criar um código que permita adicionar livros e visualizar informações básicas sobre a coleção.\n",
        "\n",
        "\n",
        "\n",
        "###Requisitos\n",
        "\n",
        "O sistema deve permitir:\n",
        "\n",
        "\n",
        "1. Adicionar um livro à coleção, armazenando as seguintes informações:\n",
        "\n",
        "\n",
        "Título\n",
        "Autor\n",
        "Ano de publicação\n",
        "Quantidade de exemplares disponíveis\n",
        "\n",
        "\n",
        "2. Exibir todos os livros cadastrados, mostrando as informações de cada um.\n",
        "\n",
        "3. Mostrar estatísticas básicas:\n",
        "\n",
        "Quantidade total de livros (somando todos os exemplares).\n",
        "Quantidade de livros distintos (número de livros diferentes).\n",
        "\n",
        "###Instruções:\n",
        "Crie uma lista para armazenar os livros. Cada livro será representado por um dicionário.\n",
        "O sistema deve permitir a repetição de ações (adicionar livros e visualizar a coleção) até que o usuário deseje parar."
      ]
    },
    {
      "cell_type": "code",
      "execution_count": null,
      "id": "-aQ0LDZ26-dD",
      "metadata": {
        "id": "-aQ0LDZ26-dD"
      },
      "outputs": [
        {
          "ename": "ValueError",
          "evalue": "invalid literal for int() with base 10: ''",
          "output_type": "error",
          "traceback": [
            "\u001b[1;31m---------------------------------------------------------------------------\u001b[0m",
            "\u001b[1;31mValueError\u001b[0m                                Traceback (most recent call last)",
            "Cell \u001b[1;32mIn[1], line 25\u001b[0m\n\u001b[0;32m     22\u001b[0m         listaLivros\u001b[38;5;241m.\u001b[39mappend(Livro(titulo, autor, anoPublicacao, qtdExemplares))\n\u001b[0;32m     24\u001b[0m \u001b[38;5;28;01mwhile\u001b[39;00m opcao \u001b[38;5;241m!=\u001b[39m \u001b[38;5;241m3\u001b[39m:\n\u001b[1;32m---> 25\u001b[0m     opcao \u001b[38;5;241m=\u001b[39m \u001b[38;5;28mint\u001b[39m(\u001b[38;5;28minput\u001b[39m(\u001b[38;5;124m\"\u001b[39m\u001b[38;5;124mBem vindo ao sistema de biblioteca! \u001b[39m\u001b[38;5;130;01m\\n\u001b[39;00m\u001b[38;5;124m Digite: \u001b[39m\u001b[38;5;130;01m\\n\u001b[39;00m\u001b[38;5;124m 1 - Cadastrar livro \u001b[39m\u001b[38;5;130;01m\\n\u001b[39;00m\u001b[38;5;124m 2 - Listar livros \u001b[39m\u001b[38;5;130;01m\\n\u001b[39;00m\u001b[38;5;124m 3 - Sair\u001b[39m\u001b[38;5;124m\"\u001b[39m))\n\u001b[0;32m     26\u001b[0m     \u001b[38;5;28;01mif\u001b[39;00m opcao \u001b[38;5;241m==\u001b[39m \u001b[38;5;241m1\u001b[39m:\n\u001b[0;32m     27\u001b[0m         cadastrarLivro()\n",
            "\u001b[1;31mValueError\u001b[0m: invalid literal for int() with base 10: ''"
          ]
        }
      ],
      "source": [
        "listaLivros = []\n",
        "opcao = 0\n",
        "class Livro:\n",
        "    def __init__(self, titulo, autor , anoPublicacao, qtdExemplares):\n",
        "        self.titulo = titulo\n",
        "        self.autor = autor\n",
        "        self.anoPublicacao = anoPublicacao\n",
        "        self.qtdExemplares = qtdExemplares\n",
        "\n",
        "    def __str__(self):\n",
        "        return f\" titulo: {self.titulo}\\n autor: {self.autor}\\n anoPublicacao: {self.anoPublicacao}\\n qtdExemplares: {self.qtdExemplares}\"\n",
        "\n",
        "def cadastrarLivro():\n",
        "    qtdLivros = int(input(\"Quantos livros você deseja cadastrar? \"))\n",
        "    while qtdLivros > 0:\n",
        "        print(f\"Restam {qtdLivros} para cadastrar!\")\n",
        "        titulo = input(\"Digite o título do livro: \")\n",
        "        autor = input(\"Digite o nome do autor: \")\n",
        "        anoPublicacao = input(\"Digite o ano de publicação: \")\n",
        "        qtdExemplares = input(\"Digite a quantidade de exemplares: \")\n",
        "        qtdLivros -= 1\n",
        "        listaLivros.append(Livro(titulo, autor, anoPublicacao, qtdExemplares))\n",
        "\n",
        "while opcao != 3:\n",
        "    opcao = int(input(\"Bem vindo ao sistema de biblioteca! \\n Digite: \\n 1 - Cadastrar livro \\n 2 - Listar livros \\n 3 - Sair\"))\n",
        "    if opcao == 1:\n",
        "        cadastrarLivro()\n",
        "    elif opcao == 2:\n",
        "        print(\"\\nLista de livros cadastrados:\")\n",
        "        for livro in listaLivros:\n",
        "            print(\"\\n_________________________________________________________________________________________________\\n\")\n",
        "            print(livro)\n",
        "            print(\"\\n_________________________________________________________________________________________________\\n\")\n",
        "    elif opcao != 3:\n",
        "        print(\"Opção inválida!\")\n",
        "    else:\n",
        "        print(\"Saindo do sistema...\")"
      ]
    },
    {
      "cell_type": "code",
      "execution_count": null,
      "id": "06d06692",
      "metadata": {},
      "outputs": [],
      "source": []
    }
  ],
  "metadata": {
    "colab": {
      "provenance": []
    },
    "kernelspec": {
      "display_name": "base",
      "language": "python",
      "name": "python3"
    },
    "language_info": {
      "codemirror_mode": {
        "name": "ipython",
        "version": 3
      },
      "file_extension": ".py",
      "mimetype": "text/x-python",
      "name": "python",
      "nbconvert_exporter": "python",
      "pygments_lexer": "ipython3",
      "version": "3.12.4"
    }
  },
  "nbformat": 4,
  "nbformat_minor": 5
}
