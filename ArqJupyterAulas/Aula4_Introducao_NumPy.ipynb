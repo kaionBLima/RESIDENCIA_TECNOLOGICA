{
 "cells": [
  {
   "cell_type": "markdown",
   "id": "ef6ea55c",
   "metadata": {
    "id": "ef6ea55c"
   },
   "source": [
    "\n",
    "# Aula 4 - Introdução ao NumPy\n",
    "\n",
    "Nesta aula, vamos explorar a biblioteca **NumPy**, amplamente utilizada em Python para computação numérica eficiente. Vamos abordar os seguintes tópicos:\n",
    "\n",
    "- Criação de arrays.\n",
    "- Operações matemáticas com arrays.\n",
    "- Funções universais e manipulação de matrizes.\n",
    "\n",
    "Além disso, teremos exemplos adicionais e alguns mini exercícios para praticar.\n",
    "\n",
    "---\n",
    "\n",
    "## Instalando o NumPy\n",
    "\n",
    "Se ainda não tiver o NumPy instalado, você pode rodar o seguinte comando:\n",
    "\n",
    "```bash\n",
    "pip install numpy\n",
    "```\n"
   ]
  },
  {
   "cell_type": "markdown",
   "id": "d309e035",
   "metadata": {
    "id": "d309e035"
   },
   "source": [
    "## NumPy e Arrays\n",
    "\n",
    "A estrutura de dados central do NumPy é o **array**. Arrays são semelhantes às listas em Python, porém mais eficientes e poderosos, especialmente ao lidar com operações numéricas.\n",
    "\n",
    "Vamos começar criando nossos primeiros arrays com NumPy.\n"
   ]
  },
  {
   "cell_type": "markdown",
   "id": "b260a92f",
   "metadata": {
    "id": "b260a92f"
   },
   "source": [
    "\n",
    "### Criando Arrays\n",
    "\n",
    "Existem várias formas de criar arrays em NumPy:\n",
    "\n",
    "- **`np.array()`**: Cria um array a partir de uma lista ou tupla.\n",
    "- **`np.zeros()`**: Cria um array preenchido com zeros.\n",
    "- **`np.ones()`**: Cria um array preenchido com uns.\n",
    "- **`np.arange()`**: Cria um array com uma sequência de números.\n",
    "- **`np.linspace()`**: Cria um array de números igualmente espaçados em um intervalo.\n",
    "\n",
    "#### Exemplo:\n"
   ]
  },
  {
   "cell_type": "code",
   "execution_count": 8,
   "id": "278912d6",
   "metadata": {
    "colab": {
     "base_uri": "https://localhost:8080/"
    },
    "id": "278912d6",
    "outputId": "02e69e98-cca7-4f4f-bcd9-0e369eb74b01"
   },
   "outputs": [
    {
     "name": "stdout",
     "output_type": "stream",
     "text": [
      "Array a partir de lista: [1 2 3 4]\n",
      "Array de zeros:\n",
      " [[0. 0. 0.]\n",
      " [0. 0. 0.]]\n",
      "Array de uns: [[1. 1. 1.]\n",
      " [1. 1. 1.]\n",
      " [1. 1. 1.]]\n",
      "Array com arange: [0 2 4 6 8]\n",
      "Array com linspace: [0.   0.25 0.5  0.75 1.  ]\n"
     ]
    }
   ],
   "source": [
    "# Importando o NumPy\n",
    "import numpy as np\n",
    "\n",
    "# Criando arrays de diferentes maneiras\n",
    "array1 = np.array([1, 2, 3, 4])\n",
    "array2 = np.zeros((2, 3))\n",
    "array3 = np.ones((3, 3))\n",
    "array4 = np.arange(0, 10, 2)\n",
    "array5 = np.linspace(0, 1, 5)\n",
    "\n",
    "# Exibindo os arrays\n",
    "print(\"Array a partir de lista:\", array1)\n",
    "print(\"Array de zeros:\\n\", array2)\n",
    "print(\"Array de uns:\\n\", array3)\n",
    "print(\"Array com arange:\\n\", array4)\n",
    "print(\"Array com linspace:\\n\", array5)"
   ]
  },
  {
   "cell_type": "markdown",
   "id": "b99a8203",
   "metadata": {
    "id": "b99a8203"
   },
   "source": [
    "\n",
    "#### **exercício 1:**\n",
    "Crie um array de 20 números igualmente espaçados entre 0 e 5.\n"
   ]
  },
  {
   "cell_type": "markdown",
   "id": "7dd47e80",
   "metadata": {
    "id": "7dd47e80"
   },
   "source": [
    "\n",
    "## Operações Matemáticas com Arrays\n",
    "\n",
    "NumPy permite realizar operações matemáticas de forma vetorizada, ou seja, operações que são aplicadas diretamente a todos os elementos do array de uma só vez. Isso torna as operações muito mais rápidas do que se fossem realizadas elemento por elemento.\n",
    "\n",
    "Você pode realizar operações como:\n",
    "\n",
    "- Adição, subtração, multiplicação e divisão de arrays.\n",
    "- Operações de agregação como soma, média e desvio padrão.\n",
    "\n",
    "#### Exemplo de operações:\n"
   ]
  },
  {
   "cell_type": "code",
   "execution_count": 10,
   "id": "1aa2f91b",
   "metadata": {
    "colab": {
     "base_uri": "https://localhost:8080/"
    },
    "id": "1aa2f91b",
    "outputId": "4ca8ca4e-3eeb-4f7a-b9fa-308dac40c8e8"
   },
   "outputs": [
    {
     "name": "stdout",
     "output_type": "stream",
     "text": [
      "Soma dos arrays: [11 22 33 44]\n",
      "Produto dos arrays: [ 10  40  90 160]\n",
      "Divisão dos arrays: [10. 10. 10. 10.]\n",
      "Soma total do array a: 10\n",
      "Média do array b: 25.0\n",
      "Desvio padrão do array b: 11.180339887498949\n"
     ]
    }
   ],
   "source": [
    "# Operações matemáticas com arrays\n",
    "a = np.array([1, 2, 3, 4])\n",
    "b = np.array([10, 20, 30, 40])\n",
    "\n",
    "# Operações elementares\n",
    "soma = a + b\n",
    "produto = a * b\n",
    "divisao = b / a\n",
    "\n",
    "# Operações de agregação\n",
    "soma_total = np.sum(a)\n",
    "media = np.mean(b)\n",
    "desvio_padrao = np.std(b)\n",
    "\n",
    "# Exibindo os resultados\n",
    "print(\"Soma dos arrays:\", soma)\n",
    "print(\"Produto dos arrays:\", produto)\n",
    "print(\"Divisão dos arrays:\", divisao)\n",
    "print(\"Soma total do array a:\", soma_total)\n",
    "print(\"Média do array b:\", media)\n",
    "print(\"Desvio padrão do array b:\", desvio_padrao)"
   ]
  },
  {
   "cell_type": "markdown",
   "id": "48e9416b",
   "metadata": {
    "id": "48e9416b"
   },
   "source": [
    "\n",
    "#### **Mini exercício 2:**\n",
    "Dado o array `arr = np.array([5, 10, 15, 20, 25])`, calcule a média e o desvio padrão dos valores.\n"
   ]
  },
  {
   "cell_type": "code",
   "execution_count": null,
   "id": "a27f6041",
   "metadata": {
    "id": "a27f6041"
   },
   "outputs": [],
   "source": [
    "# Resposta Mini exercício 2\n",
    "arr = np.array([5, 10, 15, 20, 25])\n",
    "media_arr = np.mean(arr)\n",
    "desvio_padrao_arr = np.std(arr)\n",
    "\n",
    "print(\"Média do array:\", media_arr)\n",
    "print(\"Desvio padrão do array:\", desvio_padrao_arr)"
   ]
  },
  {
   "cell_type": "markdown",
   "id": "ff308974",
   "metadata": {
    "id": "ff308974"
   },
   "source": [
    "\n",
    "## Funções Universais\n",
    "\n",
    "NumPy oferece **funções universais** (ou **ufuncs**), que são funções vetorizadas e aplicadas elemento a elemento em arrays. Exemplos incluem funções trigonométricas, exponenciais, logarítmicas, entre outras.\n",
    "\n",
    "#### Exemplo de funções universais:\n"
   ]
  },
  {
   "cell_type": "code",
   "execution_count": 11,
   "id": "a3b722ee",
   "metadata": {
    "colab": {
     "base_uri": "https://localhost:8080/"
    },
    "id": "a3b722ee",
    "outputId": "3b3fe458-7806-4e30-936e-1c16509eaa7c"
   },
   "outputs": [
    {
     "name": "stdout",
     "output_type": "stream",
     "text": [
      "Logaritmo: [0.         0.69314718 1.09861229 1.38629436]\n",
      "Exponencial: [ 2.71828183  7.3890561  20.08553692 54.59815003]\n",
      "Seno: [ 0.84147098  0.90929743  0.14112001 -0.7568025 ]\n"
     ]
    }
   ],
   "source": [
    "# Exemplo de funções universais\n",
    "array = np.array([1, 2, 3, 4])\n",
    "\n",
    "# Aplicando funções universais\n",
    "log_array = np.log(array)\n",
    "exp_array = np.exp(array)\n",
    "sin_array = np.sin(array)\n",
    "\n",
    "# Exibindo os resultados\n",
    "print(\"Logaritmo:\", log_array)\n",
    "print(\"Exponencial:\", exp_array)\n",
    "print(\"Seno:\", sin_array)"
   ]
  },
  {
   "cell_type": "markdown",
   "id": "a982208a",
   "metadata": {
    "id": "a982208a"
   },
   "source": [
    "\n",
    "#### **Mini exercício 3:**\n",
    "Dado o array `x = np.array([1, 2, 3, 4, 5])`, aplique a função seno (np.sin) a todos os elementos.\n"
   ]
  },
  {
   "cell_type": "code",
   "execution_count": null,
   "id": "50b4f2cf",
   "metadata": {
    "id": "50b4f2cf"
   },
   "outputs": [],
   "source": [
    "# Resposta Mini exercício 3\n",
    "x = np.array([1, 2, 3, 4, 5])\n",
    "seno_x = np.sin(x)\n",
    "print(\"Seno de cada elemento:\", seno_x)"
   ]
  },
  {
   "cell_type": "markdown",
   "id": "5bc753db",
   "metadata": {
    "id": "5bc753db"
   },
   "source": [
    "\n",
    "## Manipulação de Matrizes\n",
    "\n",
    "Além de arrays unidimensionais (vetores), NumPy também permite trabalhar com **matrizes** (arrays multidimensionais). É possível realizar operações como transposição, reshape e indexação.\n",
    "\n",
    "### Operações com Matrizes:\n",
    "- **`reshape()`**: Redimensiona o array.\n",
    "- **`transpose()`**: Transpõe o array (troca linhas por colunas).\n",
    "- **Indexação e fatiamento**: Acessa elementos ou subconjuntos de um array.\n",
    "\n",
    "#### Exemplo de manipulação de matrizes:\n"
   ]
  },
  {
   "cell_type": "code",
   "execution_count": 4,
   "id": "1fcfc481",
   "metadata": {
    "id": "1fcfc481"
   },
   "outputs": [
    {
     "name": "stdout",
     "output_type": "stream",
     "text": [
      "Matriz original:\n",
      "[[1 2 3]\n",
      " [4 5 6]]\n",
      "Matriz transposta:\n",
      "[[1 4]\n",
      " [2 5]\n",
      " [3 6]]\n",
      "Matriz redimensionada:\n",
      "[[1 2]\n",
      " [3 4]\n",
      " [5 6]]\n",
      "Elemento na posição [0,1]: 2\n",
      "Submatriz (colunas 1 e 2):\n",
      "[[2 3]\n",
      " [5 6]]\n"
     ]
    }
   ],
   "source": [
    "import numpy as np\n",
    "# Criando uma matriz (array 2D)\n",
    "matriz = np.array([[1, 2, 3], [4, 5, 6]])\n",
    "\n",
    "# Transpondo a matriz\n",
    "matriz_transposta = matriz.T\n",
    "\n",
    "# Redimensionando a matriz\n",
    "matriz_reshaped = matriz.reshape(3, 2)\n",
    "\n",
    "# Indexação e fatiamento\n",
    "elemento = matriz[0, 1]  # Elemento na linha 0, coluna 1\n",
    "submatriz = matriz[:, 1:]  # Todas as linhas, colunas 1 e 2\n",
    "\n",
    "# Exibindo os resultados\n",
    "print(\"Matriz original:\")\n",
    "print(matriz)\n",
    "print(\"Matriz transposta:\")\n",
    "print(matriz_transposta)\n",
    "print(\"Matriz redimensionada:\")\n",
    "print(matriz_reshaped)\n",
    "print(\"Elemento na posição [0,1]:\", elemento)\n",
    "print(\"Submatriz (colunas 1 e 2):\")\n",
    "print(submatriz)"
   ]
  },
  {
   "cell_type": "markdown",
   "id": "60bfba9b",
   "metadata": {
    "id": "60bfba9b"
   },
   "source": [
    "\n",
    "#### **Mini exercício 4:**\n",
    "Crie uma matriz 3x3 com números consecutivos de 1 a 9. Em seguida, extraia a submatriz que contém os elementos das duas primeiras colunas.\n"
   ]
  },
  {
   "cell_type": "code",
   "execution_count": 12,
   "id": "83a88bbd",
   "metadata": {
    "colab": {
     "base_uri": "https://localhost:8080/"
    },
    "id": "83a88bbd",
    "outputId": "7febea7f-a068-4f2a-d6c9-51293550f1e8"
   },
   "outputs": [
    {
     "name": "stdout",
     "output_type": "stream",
     "text": [
      "Matriz 3x3:\n",
      "[[1 2 3]\n",
      " [4 5 6]\n",
      " [7 8 9]]\n",
      "Submatriz (duas primeiras colunas):\n",
      "[[1 2]\n",
      " [4 5]\n",
      " [7 8]]\n"
     ]
    }
   ],
   "source": [
    "# Resposta Mini exercício 4\n",
    "matriz_exercicio = np.arange(1, 10).reshape(3, 3)\n",
    "submatriz_exercicio = matriz_exercicio[:, :2]\n",
    "\n",
    "print(\"Matriz 3x3:\")\n",
    "print(matriz_exercicio)\n",
    "print(\"Submatriz (duas primeiras colunas):\")\n",
    "print(submatriz_exercicio)"
   ]
  }
 ],
 "metadata": {
  "colab": {
   "provenance": []
  },
  "kernelspec": {
   "display_name": "Python 3 (ipykernel)",
   "language": "python",
   "name": "python3"
  },
  "language_info": {
   "codemirror_mode": {
    "name": "ipython",
    "version": 3
   },
   "file_extension": ".py",
   "mimetype": "text/x-python",
   "name": "python",
   "nbconvert_exporter": "python",
   "pygments_lexer": "ipython3",
   "version": "3.12.4"
  }
 },
 "nbformat": 4,
 "nbformat_minor": 5
}
