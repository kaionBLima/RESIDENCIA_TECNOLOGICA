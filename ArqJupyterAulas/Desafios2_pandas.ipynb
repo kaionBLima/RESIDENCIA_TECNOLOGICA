{
  "nbformat": 4,
  "nbformat_minor": 0,
  "metadata": {
    "colab": {
      "provenance": []
    },
    "kernelspec": {
      "name": "python3",
      "display_name": "Python 3"
    },
    "language_info": {
      "name": "python"
    }
  },
  "cells": [
    {
      "cell_type": "markdown",
      "source": [
        "#%% Desafio 4:\n",
        "# Objetivo: Trabalhar com seleção condicional e alteração de dados.\n",
        "#\n",
        "# Tarefa: Filtrar os filmes que tiveram receita maior que 100 milhões,\n",
        "# e criar uma nova coluna chamada 'sucesso' que recebe 'Sim' se a receita for maior que 100 milhões e 'Não' caso contrário.\n",
        "# Exiba o título do filme, a receita e a coluna 'sucesso'."
      ],
      "metadata": {
        "id": "ZtBQEhrTI-2I"
      }
    },
    {
      "cell_type": "code",
      "execution_count": null,
      "metadata": {
        "id": "TWgrwbn3I-Jk"
      },
      "outputs": [],
      "source": []
    },
    {
      "cell_type": "markdown",
      "source": [
        "#%% Desafio 5:\n",
        "# Objetivo: Análise estatística e criação de estatísticas resumidas.\n",
        "#\n",
        "# Tarefa: Calcular a nota média dos filmes para cada ano de lançamento.\n",
        "# Depois, mostre o ano com a maior nota média de filmes.\n",
        "# Exiba o ano, a quantidade de filmes lançados, e a nota média desse ano."
      ],
      "metadata": {
        "id": "Eua67QhgJQKD"
      }
    },
    {
      "cell_type": "markdown",
      "source": [
        "#%% Desafio 6:\n",
        "# Objetivo: Combinar dados e fazer ranking com funções do pandas.\n",
        "#\n",
        "# Tarefa: Faça um merge entre os filmes e os diretores,\n",
        "# depois crie um ranking dos 5 diretores que mais arrecadaram em receita total de filmes.\n",
        "# Exiba o nome do diretor e a receita total arrecadada."
      ],
      "metadata": {
        "id": "GAVo81tiJRan"
      }
    }
  ]
}