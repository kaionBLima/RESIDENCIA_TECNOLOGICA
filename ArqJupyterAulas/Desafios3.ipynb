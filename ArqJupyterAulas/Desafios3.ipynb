{
  "nbformat": 4,
  "nbformat_minor": 0,
  "metadata": {
    "colab": {
      "provenance": []
    },
    "kernelspec": {
      "name": "python3",
      "display_name": "Python 3"
    },
    "language_info": {
      "name": "python"
    }
  },
  "cells": [
    {
      "cell_type": "markdown",
      "source": [
        "#🚨 Desafio 7: Diretores rentáveis com consistência crítica\n",
        "#Contexto: Um estúdio quer contratar diretores que são rentáveis (geram lucro) e bem avaliados de forma consistente.\n",
        "\n",
        "#Tarefa:\n",
        "\n",
        "#Faça o merge entre movies e directors.\n",
        "\n",
        "#Crie uma coluna lucro = revenue - budget.\n",
        "\n",
        "#Para cada diretor:\n",
        "\n",
        "#Calcule o número total de filmes dirigidos.\n",
        "\n",
        "#Calcule a média de lucro.\n",
        "\n",
        "#Calcule a desvio padrão da nota (vote_average).\n",
        "\n",
        "#Filtre os diretores que:\n",
        "\n",
        "#Dirigiram pelo menos 3 filmes.\n",
        "\n",
        "#Tiveram lucro médio > 50 milhões.\n",
        "\n",
        "#Tiveram baixa variabilidade na avaliação (desvio padrão da nota < 1).\n",
        "\n",
        "#Exiba o nome do diretor, número de filmes, lucro médio, desvio padrão da nota."
      ],
      "metadata": {
        "id": "NGSh6UO52x2L"
      }
    },
    {
      "cell_type": "code",
      "execution_count": null,
      "metadata": {
        "id": "TuDKj-a12iac"
      },
      "outputs": [],
      "source": []
    },
    {
      "cell_type": "markdown",
      "source": [
        "#🔍 Desafio 8 – Pedido do Cliente: Investigação sobre “Ano Fraco” e Anomalias de Lançamento\n",
        "#\"Recebemos uma reclamação de investidores dizendo que 2013 foi um ano ‘fraco’ para lançamentos e retorno de bilheteria.\n",
        "#Quero que vocês analisem se isso procede, mas de forma comparativa. Façam o seguinte:\n",
        "\n",
        "#Me tragam uma tabela com cada ano presente no nosso catálogo, contendo:\n",
        "\n",
        "#Quantidade total de filmes lançados no ano\n",
        "\n",
        "#Receita média dos filmes\n",
        "\n",
        "#Nota média de avaliação\n",
        "\n",
        "#Número de diretores diferentes atuando naquele ano\n",
        "\n",
        "#Em seguida, me digam se 2013 realmente destoou negativamente nos quesitos acima. E por fim, liste os filmes lançados em 2013 com receita abaixo da média histórica geral.\"\n",
        "\n",
        "#💼 O que o cliente espera:\n",
        "#Uma tabela resumo por ano.\n",
        "\n",
        "#Um destacado ou observação sobre 2013.\n",
        "\n",
        "#Uma lista de filmes do ano 2013 que arrecadaram abaixo da média geral de todos os anos."
      ],
      "metadata": {
        "id": "-I3cXL4y2_Vw"
      }
    }
  ]
}