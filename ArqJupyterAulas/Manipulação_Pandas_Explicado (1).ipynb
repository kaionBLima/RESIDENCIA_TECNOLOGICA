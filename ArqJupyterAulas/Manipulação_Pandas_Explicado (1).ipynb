{
  "cells": [
    {
      "cell_type": "markdown",
      "id": "4489ea3e",
      "metadata": {
        "id": "4489ea3e"
      },
      "source": [
        "# 📘 Aula: Manipulação de Dados com Pandas"
      ]
    },
    {
      "cell_type": "markdown",
      "id": "832d17bb",
      "metadata": {
        "id": "832d17bb"
      },
      "source": [
        "Nesta aula, vamos explorar operações fundamentais (e algumas intermediárias) de manipulação de dados usando a biblioteca `pandas` em Python. Vamos trabalhar com **DataFrames**, filtragens, ordenações, junções e agregações. Ao final, serão propostos **desafios práticos** com dados reais de filmes e diretores.\n"
      ]
    },
    {
      "cell_type": "markdown",
      "id": "fba9f49e",
      "metadata": {
        "id": "fba9f49e"
      },
      "source": [
        "### 📊 1.Manipulação básica de DataFrames"
      ]
    },
    {
      "cell_type": "code",
      "execution_count": 68,
      "id": "0506dd22",
      "metadata": {
        "id": "0506dd22"
      },
      "outputs": [],
      "source": [
        "import pandas as pd\n",
        "\n",
        "df = {\n",
        "    'Nome': ['Malvezzi', 'Malvader', 'Bomvezzi'],\n",
        "    'nota1': [5.2, 4.8, 9.0],\n",
        "    'nota2': [2.2, 1.8, 0.0],\n",
        "    'nota3': [7.2, 6.8, 7.0]\n",
        "}\n",
        "\n",
        "df = pd.DataFrame(df)\n",
        "df['media'] = (df['nota1'] + df['nota2'] + df['nota3']) / 3"
      ]
    },
    {
      "cell_type": "markdown",
      "id": "cdb876db",
      "metadata": {
        "id": "cdb876db"
      },
      "source": [
        " Criando um DataFrame com nomes e três notas, e calculamos a média diretamente criando uma nova coluna."
      ]
    },
    {
      "cell_type": "markdown",
      "id": "96f20e6c",
      "metadata": {
        "id": "96f20e6c"
      },
      "source": [
        "### 📥 2. Importação de Dados CSV"
      ]
    },
    {
      "cell_type": "code",
      "execution_count": 5,
      "id": "10ca0ad5",
      "metadata": {
        "colab": {
          "base_uri": "https://localhost:8080/"
        },
        "id": "10ca0ad5",
        "outputId": "e39ac6a7-8ec8-4df7-9233-16db1cc2f0f7"
      },
      "outputs": [
        {
          "output_type": "stream",
          "name": "stdout",
          "text": [
            "       director_name    id gender\n",
            "0      James Cameron  4762   Male\n",
            "1     Gore Verbinski  4763   Male\n",
            "2         Sam Mendes  4764   Male\n",
            "3  Christopher Nolan  4765   Male\n",
            "4     Andrew Stanton  4766   Male\n",
            "\n",
            "        director_name  ID_NOVO gender\n",
            "0      James Cameron     4762   Male\n",
            "1     Gore Verbinski     4763   Male\n",
            "2         Sam Mendes     4764   Male\n",
            "3  Christopher Nolan     4765   Male\n",
            "4     Andrew Stanton     4766   Male\n"
          ]
        }
      ],
      "source": [
        "diret = pd.read_csv('directors.csv')\n",
        "mov = pd.read_csv('movies.csv')\n",
        "#RENOMEAR E REMOVER COLUNAS\n",
        "diret = diret.drop(columns='Unnamed: 0')\n",
        "diret2 = diret.rename(columns={'id': 'ID_NOVO'})\n",
        "print(diret.head())\n",
        "print(\"\\n\",diret2.head())"
      ]
    },
    {
      "cell_type": "markdown",
      "id": "4ab7727d",
      "metadata": {
        "id": "4ab7727d"
      },
      "source": [
        "**📝 Comentário:** Carregando arquivos CSV com informações sobre diretores e filmes. Também mostramos como renomear e remover colunas."
      ]
    },
    {
      "cell_type": "markdown",
      "id": "c7307c6c",
      "metadata": {
        "id": "c7307c6c"
      },
      "source": [
        "### 📈 3. Análise Exploratória"
      ]
    },
    {
      "cell_type": "code",
      "execution_count": 7,
      "id": "7fa788d2",
      "metadata": {
        "colab": {
          "base_uri": "https://localhost:8080/",
          "height": 379
        },
        "id": "7fa788d2",
        "outputId": "0cab0331-8f4c-4b8d-cd88-3d2950c3270f"
      },
      "outputs": [
        {
          "output_type": "stream",
          "name": "stdout",
          "text": [
            "<class 'pandas.core.frame.DataFrame'>\n",
            "RangeIndex: 2349 entries, 0 to 2348\n",
            "Data columns (total 3 columns):\n",
            " #   Column         Non-Null Count  Dtype \n",
            "---  ------         --------------  ----- \n",
            " 0   director_name  2349 non-null   object\n",
            " 1   id             2349 non-null   int64 \n",
            " 2   gender         1724 non-null   object\n",
            "dtypes: int64(1), object(2)\n",
            "memory usage: 55.2+ KB\n"
          ]
        },
        {
          "output_type": "execute_result",
          "data": {
            "text/plain": [
              "       director_name    id gender\n",
              "0      James Cameron  4762   Male\n",
              "1     Gore Verbinski  4763   Male\n",
              "2         Sam Mendes  4764   Male\n",
              "3  Christopher Nolan  4765   Male\n",
              "4     Andrew Stanton  4766   Male"
            ],
            "text/html": [
              "\n",
              "  <div id=\"df-bf16ebca-e5be-440c-9766-fa2218c8dccc\" class=\"colab-df-container\">\n",
              "    <div>\n",
              "<style scoped>\n",
              "    .dataframe tbody tr th:only-of-type {\n",
              "        vertical-align: middle;\n",
              "    }\n",
              "\n",
              "    .dataframe tbody tr th {\n",
              "        vertical-align: top;\n",
              "    }\n",
              "\n",
              "    .dataframe thead th {\n",
              "        text-align: right;\n",
              "    }\n",
              "</style>\n",
              "<table border=\"1\" class=\"dataframe\">\n",
              "  <thead>\n",
              "    <tr style=\"text-align: right;\">\n",
              "      <th></th>\n",
              "      <th>director_name</th>\n",
              "      <th>id</th>\n",
              "      <th>gender</th>\n",
              "    </tr>\n",
              "  </thead>\n",
              "  <tbody>\n",
              "    <tr>\n",
              "      <th>0</th>\n",
              "      <td>James Cameron</td>\n",
              "      <td>4762</td>\n",
              "      <td>Male</td>\n",
              "    </tr>\n",
              "    <tr>\n",
              "      <th>1</th>\n",
              "      <td>Gore Verbinski</td>\n",
              "      <td>4763</td>\n",
              "      <td>Male</td>\n",
              "    </tr>\n",
              "    <tr>\n",
              "      <th>2</th>\n",
              "      <td>Sam Mendes</td>\n",
              "      <td>4764</td>\n",
              "      <td>Male</td>\n",
              "    </tr>\n",
              "    <tr>\n",
              "      <th>3</th>\n",
              "      <td>Christopher Nolan</td>\n",
              "      <td>4765</td>\n",
              "      <td>Male</td>\n",
              "    </tr>\n",
              "    <tr>\n",
              "      <th>4</th>\n",
              "      <td>Andrew Stanton</td>\n",
              "      <td>4766</td>\n",
              "      <td>Male</td>\n",
              "    </tr>\n",
              "  </tbody>\n",
              "</table>\n",
              "</div>\n",
              "    <div class=\"colab-df-buttons\">\n",
              "\n",
              "  <div class=\"colab-df-container\">\n",
              "    <button class=\"colab-df-convert\" onclick=\"convertToInteractive('df-bf16ebca-e5be-440c-9766-fa2218c8dccc')\"\n",
              "            title=\"Convert this dataframe to an interactive table.\"\n",
              "            style=\"display:none;\">\n",
              "\n",
              "  <svg xmlns=\"http://www.w3.org/2000/svg\" height=\"24px\" viewBox=\"0 -960 960 960\">\n",
              "    <path d=\"M120-120v-720h720v720H120Zm60-500h600v-160H180v160Zm220 220h160v-160H400v160Zm0 220h160v-160H400v160ZM180-400h160v-160H180v160Zm440 0h160v-160H620v160ZM180-180h160v-160H180v160Zm440 0h160v-160H620v160Z\"/>\n",
              "  </svg>\n",
              "    </button>\n",
              "\n",
              "  <style>\n",
              "    .colab-df-container {\n",
              "      display:flex;\n",
              "      gap: 12px;\n",
              "    }\n",
              "\n",
              "    .colab-df-convert {\n",
              "      background-color: #E8F0FE;\n",
              "      border: none;\n",
              "      border-radius: 50%;\n",
              "      cursor: pointer;\n",
              "      display: none;\n",
              "      fill: #1967D2;\n",
              "      height: 32px;\n",
              "      padding: 0 0 0 0;\n",
              "      width: 32px;\n",
              "    }\n",
              "\n",
              "    .colab-df-convert:hover {\n",
              "      background-color: #E2EBFA;\n",
              "      box-shadow: 0px 1px 2px rgba(60, 64, 67, 0.3), 0px 1px 3px 1px rgba(60, 64, 67, 0.15);\n",
              "      fill: #174EA6;\n",
              "    }\n",
              "\n",
              "    .colab-df-buttons div {\n",
              "      margin-bottom: 4px;\n",
              "    }\n",
              "\n",
              "    [theme=dark] .colab-df-convert {\n",
              "      background-color: #3B4455;\n",
              "      fill: #D2E3FC;\n",
              "    }\n",
              "\n",
              "    [theme=dark] .colab-df-convert:hover {\n",
              "      background-color: #434B5C;\n",
              "      box-shadow: 0px 1px 3px 1px rgba(0, 0, 0, 0.15);\n",
              "      filter: drop-shadow(0px 1px 2px rgba(0, 0, 0, 0.3));\n",
              "      fill: #FFFFFF;\n",
              "    }\n",
              "  </style>\n",
              "\n",
              "    <script>\n",
              "      const buttonEl =\n",
              "        document.querySelector('#df-bf16ebca-e5be-440c-9766-fa2218c8dccc button.colab-df-convert');\n",
              "      buttonEl.style.display =\n",
              "        google.colab.kernel.accessAllowed ? 'block' : 'none';\n",
              "\n",
              "      async function convertToInteractive(key) {\n",
              "        const element = document.querySelector('#df-bf16ebca-e5be-440c-9766-fa2218c8dccc');\n",
              "        const dataTable =\n",
              "          await google.colab.kernel.invokeFunction('convertToInteractive',\n",
              "                                                    [key], {});\n",
              "        if (!dataTable) return;\n",
              "\n",
              "        const docLinkHtml = 'Like what you see? Visit the ' +\n",
              "          '<a target=\"_blank\" href=https://colab.research.google.com/notebooks/data_table.ipynb>data table notebook</a>'\n",
              "          + ' to learn more about interactive tables.';\n",
              "        element.innerHTML = '';\n",
              "        dataTable['output_type'] = 'display_data';\n",
              "        await google.colab.output.renderOutput(dataTable, element);\n",
              "        const docLink = document.createElement('div');\n",
              "        docLink.innerHTML = docLinkHtml;\n",
              "        element.appendChild(docLink);\n",
              "      }\n",
              "    </script>\n",
              "  </div>\n",
              "\n",
              "\n",
              "<div id=\"df-8e2620ac-d75e-420f-9946-237450f04e01\">\n",
              "  <button class=\"colab-df-quickchart\" onclick=\"quickchart('df-8e2620ac-d75e-420f-9946-237450f04e01')\"\n",
              "            title=\"Suggest charts\"\n",
              "            style=\"display:none;\">\n",
              "\n",
              "<svg xmlns=\"http://www.w3.org/2000/svg\" height=\"24px\"viewBox=\"0 0 24 24\"\n",
              "     width=\"24px\">\n",
              "    <g>\n",
              "        <path d=\"M19 3H5c-1.1 0-2 .9-2 2v14c0 1.1.9 2 2 2h14c1.1 0 2-.9 2-2V5c0-1.1-.9-2-2-2zM9 17H7v-7h2v7zm4 0h-2V7h2v10zm4 0h-2v-4h2v4z\"/>\n",
              "    </g>\n",
              "</svg>\n",
              "  </button>\n",
              "\n",
              "<style>\n",
              "  .colab-df-quickchart {\n",
              "      --bg-color: #E8F0FE;\n",
              "      --fill-color: #1967D2;\n",
              "      --hover-bg-color: #E2EBFA;\n",
              "      --hover-fill-color: #174EA6;\n",
              "      --disabled-fill-color: #AAA;\n",
              "      --disabled-bg-color: #DDD;\n",
              "  }\n",
              "\n",
              "  [theme=dark] .colab-df-quickchart {\n",
              "      --bg-color: #3B4455;\n",
              "      --fill-color: #D2E3FC;\n",
              "      --hover-bg-color: #434B5C;\n",
              "      --hover-fill-color: #FFFFFF;\n",
              "      --disabled-bg-color: #3B4455;\n",
              "      --disabled-fill-color: #666;\n",
              "  }\n",
              "\n",
              "  .colab-df-quickchart {\n",
              "    background-color: var(--bg-color);\n",
              "    border: none;\n",
              "    border-radius: 50%;\n",
              "    cursor: pointer;\n",
              "    display: none;\n",
              "    fill: var(--fill-color);\n",
              "    height: 32px;\n",
              "    padding: 0;\n",
              "    width: 32px;\n",
              "  }\n",
              "\n",
              "  .colab-df-quickchart:hover {\n",
              "    background-color: var(--hover-bg-color);\n",
              "    box-shadow: 0 1px 2px rgba(60, 64, 67, 0.3), 0 1px 3px 1px rgba(60, 64, 67, 0.15);\n",
              "    fill: var(--button-hover-fill-color);\n",
              "  }\n",
              "\n",
              "  .colab-df-quickchart-complete:disabled,\n",
              "  .colab-df-quickchart-complete:disabled:hover {\n",
              "    background-color: var(--disabled-bg-color);\n",
              "    fill: var(--disabled-fill-color);\n",
              "    box-shadow: none;\n",
              "  }\n",
              "\n",
              "  .colab-df-spinner {\n",
              "    border: 2px solid var(--fill-color);\n",
              "    border-color: transparent;\n",
              "    border-bottom-color: var(--fill-color);\n",
              "    animation:\n",
              "      spin 1s steps(1) infinite;\n",
              "  }\n",
              "\n",
              "  @keyframes spin {\n",
              "    0% {\n",
              "      border-color: transparent;\n",
              "      border-bottom-color: var(--fill-color);\n",
              "      border-left-color: var(--fill-color);\n",
              "    }\n",
              "    20% {\n",
              "      border-color: transparent;\n",
              "      border-left-color: var(--fill-color);\n",
              "      border-top-color: var(--fill-color);\n",
              "    }\n",
              "    30% {\n",
              "      border-color: transparent;\n",
              "      border-left-color: var(--fill-color);\n",
              "      border-top-color: var(--fill-color);\n",
              "      border-right-color: var(--fill-color);\n",
              "    }\n",
              "    40% {\n",
              "      border-color: transparent;\n",
              "      border-right-color: var(--fill-color);\n",
              "      border-top-color: var(--fill-color);\n",
              "    }\n",
              "    60% {\n",
              "      border-color: transparent;\n",
              "      border-right-color: var(--fill-color);\n",
              "    }\n",
              "    80% {\n",
              "      border-color: transparent;\n",
              "      border-right-color: var(--fill-color);\n",
              "      border-bottom-color: var(--fill-color);\n",
              "    }\n",
              "    90% {\n",
              "      border-color: transparent;\n",
              "      border-bottom-color: var(--fill-color);\n",
              "    }\n",
              "  }\n",
              "</style>\n",
              "\n",
              "  <script>\n",
              "    async function quickchart(key) {\n",
              "      const quickchartButtonEl =\n",
              "        document.querySelector('#' + key + ' button');\n",
              "      quickchartButtonEl.disabled = true;  // To prevent multiple clicks.\n",
              "      quickchartButtonEl.classList.add('colab-df-spinner');\n",
              "      try {\n",
              "        const charts = await google.colab.kernel.invokeFunction(\n",
              "            'suggestCharts', [key], {});\n",
              "      } catch (error) {\n",
              "        console.error('Error during call to suggestCharts:', error);\n",
              "      }\n",
              "      quickchartButtonEl.classList.remove('colab-df-spinner');\n",
              "      quickchartButtonEl.classList.add('colab-df-quickchart-complete');\n",
              "    }\n",
              "    (() => {\n",
              "      let quickchartButtonEl =\n",
              "        document.querySelector('#df-8e2620ac-d75e-420f-9946-237450f04e01 button');\n",
              "      quickchartButtonEl.style.display =\n",
              "        google.colab.kernel.accessAllowed ? 'block' : 'none';\n",
              "    })();\n",
              "  </script>\n",
              "</div>\n",
              "\n",
              "    </div>\n",
              "  </div>\n"
            ],
            "application/vnd.google.colaboratory.intrinsic+json": {
              "type": "dataframe",
              "variable_name": "diret",
              "summary": "{\n  \"name\": \"diret\",\n  \"rows\": 2349,\n  \"fields\": [\n    {\n      \"column\": \"director_name\",\n      \"properties\": {\n        \"dtype\": \"string\",\n        \"num_unique_values\": 2349,\n        \"samples\": [\n          \"Hart Bochner\",\n          \"David Wain\",\n          \"Ham Tran\"\n        ],\n        \"semantic_type\": \"\",\n        \"description\": \"\"\n      }\n    },\n    {\n      \"column\": \"id\",\n      \"properties\": {\n        \"dtype\": \"number\",\n        \"std\": 678,\n        \"min\": 4762,\n        \"max\": 7110,\n        \"num_unique_values\": 2349,\n        \"samples\": [\n          6157,\n          5430,\n          6764\n        ],\n        \"semantic_type\": \"\",\n        \"description\": \"\"\n      }\n    },\n    {\n      \"column\": \"gender\",\n      \"properties\": {\n        \"dtype\": \"category\",\n        \"num_unique_values\": 2,\n        \"samples\": [\n          \"Female\",\n          \"Male\"\n        ],\n        \"semantic_type\": \"\",\n        \"description\": \"\"\n      }\n    }\n  ]\n}"
            }
          },
          "metadata": {},
          "execution_count": 7
        }
      ],
      "source": [
        "diret.info()\n",
        "diret.describe()\n",
        "diret.head()\n"
      ]
    },
    {
      "cell_type": "markdown",
      "id": "ca40e6ba",
      "metadata": {
        "id": "ca40e6ba"
      },
      "source": [
        "**📝 Comentário:** Análise inicial dos datasets usando `.info()`, `.describe()` e `.head()`."
      ]
    },
    {
      "cell_type": "markdown",
      "id": "2c0c922e",
      "metadata": {
        "id": "2c0c922e"
      },
      "source": [
        "### 🧮 4. Ordenação"
      ]
    },
    {
      "cell_type": "code",
      "execution_count": 26,
      "id": "f2d1446c",
      "metadata": {
        "colab": {
          "base_uri": "https://localhost:8080/"
        },
        "id": "f2d1446c",
        "outputId": "b37d73c4-94d1-4d8f-a095-68966300ec7d"
      },
      "outputs": [
        {
          "output_type": "stream",
          "name": "stdout",
          "text": [
            "   ID    Nome\n",
            "0   1     Ana\n",
            "3   3   Bruno\n",
            "2   5  Carlos\n",
            "1   2  Carlos\n",
            "   ID    Nome  nota\n",
            "0   1     Ana     2\n",
            "3   3   Bruno     4\n",
            "2   5  Carlos     6\n",
            "1   2  Carlos     3\n",
            "\n",
            "    ID    Nome  nota  Nota2\n",
            "0   1     Ana     2   True\n",
            "3   3   Bruno     4   True\n",
            "2   5  Carlos     6   True\n",
            "1   2  Carlos     3   True\n",
            "0    False\n",
            "3    False\n",
            "2    False\n",
            "1    False\n",
            "dtype: bool\n"
          ]
        }
      ],
      "source": [
        "df0 = pd.DataFrame({\n",
        "    'ID': [1, 2, 5, 3],\n",
        "    'Nome': ['Ana', 'Carlos', 'Carlos', 'Bruno']\n",
        "})\n",
        "\n",
        "df0 = df0.sort_values(by=['Nome', 'ID'], ascending=[True, False]) #ASCENDING True:Ordena do menor para o maior //False: Do maior para o menor\n",
        "print(df0)\n",
        "\n",
        "#mais um exemplo de filtro\n",
        "df0['nota'] = df0['ID'] + 1\n",
        "print(df0)#Adicionando coluna Nota sendo ela Id + 1\n",
        "df0['Nota2'] = df0['ID'] == (df0['nota'] - 1)#Nota 2 adicionando uma coluna bool para saber se id = nota-1\n",
        "print(\"\\n\",df0)\n",
        "\n",
        "print(df0['ID'] == df0['nota'])#testando se nota é == a Id"
      ]
    },
    {
      "cell_type": "markdown",
      "id": "dc7e501a",
      "metadata": {
        "id": "dc7e501a"
      },
      "source": [
        "**📝 Comentário:** Ordenação por múltiplas colunas, criação de novas colunas e comparações booleanas."
      ]
    },
    {
      "cell_type": "markdown",
      "id": "b78d7714",
      "metadata": {
        "id": "b78d7714"
      },
      "source": [
        "### 🔍 5. Filtros e Seleções"
      ]
    },
    {
      "cell_type": "code",
      "execution_count": 58,
      "id": "478aecdf",
      "metadata": {
        "colab": {
          "base_uri": "https://localhost:8080/"
        },
        "id": "478aecdf",
        "outputId": "90237dee-3864-482c-e91d-06f8d26d0fd2"
      },
      "outputs": [
        {
          "output_type": "stream",
          "name": "stdout",
          "text": [
            "   ID    Nome\n",
            "1   2  Carlos\n",
            "\n",
            "    ID    Nome\n",
            "0   1  Carlos\n",
            "1   2  Carlos\n",
            "Nome == a carlos imprime o ID\n",
            " 0    1\n",
            "1    2\n",
            "Name: ID, dtype: int64\n",
            "Nome    Carlos\n",
            "Name: 1, dtype: object\n"
          ]
        }
      ],
      "source": [
        "df0 = pd.DataFrame({\n",
        "    'ID': [1, 2, 3],\n",
        "    'Nome': ['Carlos', 'Carlos', 'Bruno']\n",
        "})\n",
        "\n",
        "filtro = df0['ID'] == 2\n",
        "df0_filtrado = df0[filtro]\n",
        "print(df0_filtrado)\n",
        "\n",
        "\n",
        "df0_filtrado = df0[(df0['Nome'] == 'Carlos') | (df0['ID'] == 1)]\n",
        "print(\"\\n\",df0_filtrado)\n",
        "\n",
        "nome_id2 = df0.loc[df0['Nome'] == 'Carlos', 'ID']\n",
        "posicao2 = df0.iloc[1, 1:2]\n",
        "\n",
        "print(\"Nome == a carlos imprime o ID\\n\",nome_id2)\n",
        "print(posicao2)"
      ]
    },
    {
      "cell_type": "markdown",
      "id": "46702fcc",
      "metadata": {
        "id": "46702fcc"
      },
      "source": [
        "**📝 Comentário:** Uso de filtros booleanos, operadores lógicos e seleção com `.loc` e `.iloc`."
      ]
    },
    {
      "cell_type": "markdown",
      "id": "9c715619",
      "metadata": {
        "id": "9c715619"
      },
      "source": [
        "### 🔗 6. Concatenação"
      ]
    },
    {
      "cell_type": "code",
      "execution_count": 60,
      "id": "359d5ff7",
      "metadata": {
        "colab": {
          "base_uri": "https://localhost:8080/"
        },
        "id": "359d5ff7",
        "outputId": "c0c0ab66-6f7a-4fb1-b939-4af3f099fb1d"
      },
      "outputs": [
        {
          "output_type": "stream",
          "name": "stdout",
          "text": [
            "DF1:\n",
            "    ID    Nome  Nota\n",
            "0   1     Ana  None\n",
            "1   2   Bruno     5\n",
            "2   3  Carlos  None\n",
            "DF2:\n",
            "    ID      Nome\n",
            "0   4   Daniela\n",
            "1   5   Eduardo\n",
            "2   6  Fernanda\n",
            "DF_CONCATENADO\n",
            "    ID      Nome  Nota\n",
            "0   1       Ana  None\n",
            "1   2     Bruno     5\n",
            "2   3    Carlos  None\n",
            "0   4   Daniela   NaN\n",
            "1   5   Eduardo   NaN\n",
            "2   6  Fernanda   NaN\n"
          ]
        }
      ],
      "source": [
        "df1 = pd.DataFrame({\n",
        "    'ID': [1, 2, 3],\n",
        "    'Nome': ['Ana', 'Bruno', 'Carlos'],\n",
        "    'Nota': [None, '5', None]\n",
        "})\n",
        "\n",
        "df2 = pd.DataFrame({\n",
        "    'ID': [4, 5, 6],\n",
        "    'Nome': ['Daniela', 'Eduardo', 'Fernanda']\n",
        "})\n",
        "\n",
        "df_concat = pd.concat([df1, df2], ignore_index=False)\n",
        "print(\"DF1:\\n\",df1)\n",
        "print(\"DF2:\\n\",df2)\n",
        "print(\"DF_CONCATENADO\\n\",df_concat)"
      ]
    },
    {
      "cell_type": "markdown",
      "id": "b77c095b",
      "metadata": {
        "id": "b77c095b"
      },
      "source": [
        "**📝 Comentário:** Concatenação de DataFrames com `ignore_index=False` para manter os índices."
      ]
    },
    {
      "cell_type": "markdown",
      "id": "926dbd85",
      "metadata": {
        "id": "926dbd85"
      },
      "source": [
        "### 🔄 7. Merge (Junção de Dados)"
      ]
    },
    {
      "cell_type": "code",
      "execution_count": 67,
      "id": "d6e2680c",
      "metadata": {
        "colab": {
          "base_uri": "https://localhost:8080/"
        },
        "id": "d6e2680c",
        "outputId": "44fa43cd-c7dc-4cd7-ef05-fcc4551f4de2"
      },
      "outputs": [
        {
          "output_type": "stream",
          "name": "stdout",
          "text": [
            "\n",
            "\n",
            "    ID    Nome\n",
            "0   1     Ana\n",
            "1   2   Bruno\n",
            "2   3  Carlos\n",
            "3   4      30\n",
            "\n",
            "\n",
            "    ID Nome\n",
            "0   1  Ana\n",
            "1   2   25\n",
            "2   3   30\n",
            "\n",
            "\n",
            "    ID Nome\n",
            "0   1  Ana\n"
          ]
        }
      ],
      "source": [
        "df_left = pd.DataFrame({\n",
        "    'ID': [1, 2, 3, 4],\n",
        "    'Nome': ['Ana', 'Bruno', 'Carlos', '30']\n",
        "})\n",
        "\n",
        "df_right = pd.DataFrame({\n",
        "    'ID': [1, 2, 4],\n",
        "    'Nome': ['Ana', '25', '20']\n",
        "})\n",
        "\n",
        "df_merged = pd.merge(\n",
        "    df_left,\n",
        "    df_right,\n",
        "    on=['ID', 'Nome'], #variavel de critério de Junção\n",
        "    how='inner'#interação entre elementos iguais nas tabelas\n",
        ")\n",
        "print(\"\\n\\n\",df_left)\n",
        "print(\"\\n\\n\",df_right)\n",
        "print(\"\\n\\n\",df_merged)"
      ]
    },
    {
      "cell_type": "markdown",
      "id": "69e1c618",
      "metadata": {
        "id": "69e1c618"
      },
      "source": [
        "**📝 Comentário:** Junção `inner` entre dois DataFrames com base em múltiplas colunas."
      ]
    },
    {
      "cell_type": "markdown",
      "id": "59b5b592",
      "metadata": {
        "id": "59b5b592"
      },
      "source": [
        "### 📚 8. GroupBy e Agregações"
      ]
    },
    {
      "cell_type": "code",
      "execution_count": 74,
      "id": "a0bb9055",
      "metadata": {
        "colab": {
          "base_uri": "https://localhost:8080/"
        },
        "id": "a0bb9055",
        "outputId": "2d3c112a-1ea0-4968-83b8-e11922161823"
      },
      "outputs": [
        {
          "output_type": "stream",
          "name": "stdout",
          "text": [
            "\n",
            "Dados Agrupados por vendedor:\n",
            "          Valor_Venda                   Quantidade    \n",
            "                 sum        mean count        sum max\n",
            "Vendedor                                             \n",
            "Ana              730  243.333333     3          7   4\n",
            "Bruno            270  135.000000     2          5   3\n",
            "Carlos           800  400.000000     2          3   2\n",
            "Dados Agrupados por Produto:\n",
            "   Vendedor Produto  Valor_Venda  Quantidade\n",
            "0      Ana       A          200           1\n",
            "1      Ana       B          530           6\n",
            "2    Bruno       A          150           2\n",
            "3    Bruno       B          120           3\n",
            "4   Carlos       A          800           3\n"
          ]
        },
        {
          "output_type": "stream",
          "name": "stderr",
          "text": [
            "<ipython-input-74-10defa472db2>:22: DeprecationWarning: DataFrameGroupBy.apply operated on the grouping columns. This behavior is deprecated, and in a future version of pandas the grouping columns will be excluded from the operation. Either pass `include_groups=False` to exclude the groupings or explicitly select the grouping columns after groupby to silence this warning.\n",
            "  df_margem = df_sales.groupby('Vendedor').apply(margem_lucro).reset_index(name='Margem_Lucro')\n"
          ]
        }
      ],
      "source": [
        "df_sales = pd.DataFrame({\n",
        "    'Vendedor': ['Ana', 'Bruno', 'Ana', 'Carlos', 'Bruno', 'Ana', 'Carlos'],\n",
        "    'Produto': ['A', 'A', 'B', 'A', 'B', 'B', 'A'],\n",
        "    'Valor_Venda': [200, 150, 350, 400, 120, 180, 400],\n",
        "    'Quantidade': [1, 2, 2, 1, 3, 4, 2]\n",
        "})\n",
        "\n",
        "df_grouped = df_sales.groupby('Vendedor').agg({#.agg permite agrupar funções dentro do groupyby\n",
        "    'Valor_Venda': ['sum', 'mean', 'count'],\n",
        "    'Quantidade': ['sum', 'max']\n",
        "})\n",
        "print(\"\\nDados Agrupados por vendedor:\\n\",df_grouped)\n",
        "df_grouped_produto = df_sales.groupby(['Vendedor', 'Produto']).agg({\n",
        "    'Valor_Venda': 'sum',\n",
        "    'Quantidade': 'sum'\n",
        "}).reset_index()\n",
        "print(\"Dados Agrupados por Produto:\\n\",df_grouped_produto)\n",
        "\n",
        "def margem_lucro(grupo):\n",
        "    return (grupo['Valor_Venda'].sum() - grupo['Quantidade'].sum() * 50) / grupo['Valor_Venda'].sum()\n",
        "\n",
        "df_margem = df_sales.groupby('Vendedor').apply(margem_lucro).reset_index(name='Margem_Lucro')\n",
        "\n",
        "df_filtrado = df_sales.groupby('Vendedor').filter(lambda x: x['Valor_Venda'].sum() > 500)"
      ]
    },
    {
      "cell_type": "markdown",
      "id": "c25e095f",
      "metadata": {
        "id": "c25e095f"
      },
      "source": [
        "**📝 Comentário:** Agrupamentos e agregações com `.agg()`, `.apply()` e `.filter()`."
      ]
    },
    {
      "cell_type": "markdown",
      "id": "1f947495",
      "metadata": {
        "id": "1f947495"
      },
      "source": [
        "### 🔁 9. Apply com Funções Customizadas"
      ]
    },
    {
      "cell_type": "code",
      "execution_count": null,
      "id": "5e30bcda",
      "metadata": {
        "id": "5e30bcda"
      },
      "outputs": [],
      "source": [
        "df = pd.DataFrame({\n",
        "    'Nome': ['Ana', 'Bruno', 'Carlos'],\n",
        "    'Idade': [23, 25, 30]\n",
        "})\n",
        "\n",
        "def categorizar_idade(idade):\n",
        "    if idade < 25:\n",
        "        return 'Jovem'\n",
        "    elif idade < 30:\n",
        "        return 'Adulto'\n",
        "    else:\n",
        "        return 'Maturidade'\n",
        "\n",
        "df['Categoria_Idade'] = df['Idade'].apply(categorizar_idade)"
      ]
    },
    {
      "cell_type": "markdown",
      "id": "202f5ab6",
      "metadata": {
        "id": "202f5ab6"
      },
      "source": [
        "**📝 Comentário:** Uso de `apply` com função customizada para categorizar."
      ]
    },
    {
      "cell_type": "markdown",
      "id": "c999595c",
      "metadata": {
        "id": "c999595c"
      },
      "source": [
        "### 🧱 10. Tabela Dinâmica (Pivot Table)"
      ]
    },
    {
      "cell_type": "code",
      "execution_count": 76,
      "id": "f11b41f3",
      "metadata": {
        "colab": {
          "base_uri": "https://localhost:8080/"
        },
        "id": "f11b41f3",
        "outputId": "d86c0781-8355-4d0f-8a26-74ae55ad034e"
      },
      "outputs": [
        {
          "output_type": "stream",
          "name": "stdout",
          "text": [
            "  Vendedor Produto  Valor_Venda\n",
            "0      Ana       A          200\n",
            "1    Bruno       B          150\n",
            "2      Ana       A          350\n",
            "3   Carlos       C          400\n",
            "4    Bruno       B          120\n",
            "5      Ana       A          180\n",
            "\n",
            " Produto     A    B    C\n",
            "Vendedor               \n",
            "Ana       730    0    0\n",
            "Bruno       0  270    0\n",
            "Carlos      0    0  400\n"
          ]
        }
      ],
      "source": [
        "df_sales = pd.DataFrame({\n",
        "    'Vendedor': ['Ana', 'Bruno', 'Ana', 'Carlos', 'Bruno', 'Ana'],\n",
        "    'Produto': ['A', 'B', 'A', 'C', 'B', 'A'],\n",
        "    'Valor_Venda': [200, 150, 350, 400, 120, 180]\n",
        "})\n",
        "print(df_sales)\n",
        "df_pivot = pd.pivot_table(\n",
        "    df_sales,\n",
        "    values='Valor_Venda',\n",
        "    index='Vendedor',\n",
        "    columns='Produto',\n",
        "    aggfunc='sum',\n",
        "    fill_value=0\n",
        ")\n",
        "print(\"\\n\",df_pivot)"
      ]
    },
    {
      "cell_type": "markdown",
      "id": "415d78d7",
      "metadata": {
        "id": "415d78d7"
      },
      "source": [
        "**📝 Comentário:** Tabela dinâmica com `pivot_table`, sumarizando valores por categorias."
      ]
    },
    {
      "cell_type": "markdown",
      "source": [
        "#%% Desafio 1:\n",
        "# Objetivo: Trabalhar com manipulação básica de dados e filtragem usando Pandas.\n",
        "#\n",
        "# Tarefa: Filtrar os dados para mostrar todos os filmes lançados no ano de 2015,\n",
        "# e ordenar esses filmes pela popularidade de forma decrescente.\n",
        "# Exiba apenas o título do filme, o ano de lançamento, e a popularidade."
      ],
      "metadata": {
        "id": "X5813rfbEHQP"
      },
      "id": "X5813rfbEHQP"
    },
    {
      "cell_type": "markdown",
      "source": [
        "#%% Desafio 2:\n",
        "# Objetivo: Realizar junção de dados (merge) entre os dataframes e agregação de valores.\n",
        "#\n",
        "# Tarefa: Combine os dados de diretores e filmes usando o campo de ID do diretor,\n",
        "# e em seguida calcule a média da receita dos filmes para cada diretor.\n",
        "# Exiba o nome do diretor, o número de filmes que ele dirigiu e a média de receita obtida.\n",
        "#"
      ],
      "metadata": {
        "id": "sF6qLuqYEMKV"
      },
      "id": "sF6qLuqYEMKV"
    },
    {
      "cell_type": "markdown",
      "source": [],
      "metadata": {
        "id": "BKpzz_1FEHOd"
      },
      "id": "BKpzz_1FEHOd"
    },
    {
      "cell_type": "markdown",
      "source": [
        "#%% Desafio 3:\n",
        "# Objetivo: Trabalhar com operações mais avançadas de agregação e criação de colunas.\n",
        "#\n",
        "# Tarefa: Crie uma nova coluna chamada lucro para cada filme,\n",
        "# que será calculada como a diferença entre a receita e o orçamento.\n",
        "# Depois, agrupe os dados por gênero do diretor e calcule o total de filmes dirigidos por diretores de cada gênero,\n",
        "# além da soma total de lucro gerado pelos filmes dirigidos por cada grupo."
      ],
      "metadata": {
        "id": "niS5rEEqEQvP"
      },
      "id": "niS5rEEqEQvP"
    }
  ],
  "metadata": {
    "colab": {
      "provenance": []
    },
    "language_info": {
      "name": "python"
    },
    "kernelspec": {
      "name": "python3",
      "display_name": "Python 3"
    }
  },
  "nbformat": 4,
  "nbformat_minor": 5
}