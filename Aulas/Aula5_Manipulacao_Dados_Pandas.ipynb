{
  "cells": [
    {
      "cell_type": "markdown",
      "id": "21a23a66",
      "metadata": {
        "id": "21a23a66"
      },
      "source": [
        "\n",
        "# Aula 5 - Manipulação de Dados com Pandas\n",
        "\n",
        "Nesta aula, vamos explorar a biblioteca **Pandas**, que é amplamente utilizada em Python para manipulação e análise de dados. Vamos abordar os seguintes tópicos:\n",
        "\n",
        "- Introdução a **Series** e **DataFrames**.\n",
        "- Carregamento e leitura de dados (CSV, Excel, etc.).\n",
        "- Operações básicas com DataFrames (seleção, filtragem, agrupamento).\n",
        "- Limpeza e transformação de dados.\n",
        "\n",
        "---\n",
        "\n",
        "## Instalando o Pandas\n",
        "\n",
        "Se ainda não tiver o Pandas instalado, você pode rodar o seguinte comando:\n",
        "\n",
        "```bash\n",
        "pip install pandas\n",
        "```\n"
      ]
    },
    {
      "cell_type": "markdown",
      "id": "1c32422c",
      "metadata": {
        "id": "1c32422c"
      },
      "source": [
        "\n",
        "## Introdução a Series e DataFrames\n",
        "\n",
        "**Pandas** é uma biblioteca poderosa para manipulação de dados, construída em cima do **NumPy**. Existem duas estruturas de dados principais no Pandas:\n",
        "\n",
        "- **Series**: São arrays unidimensionais com rótulos (semelhante a dicionários).\n",
        "- **DataFrames**: São tabelas bidimensionais com rótulos para linhas e colunas (semelhante a planilhas).\n",
        "\n",
        "Vamos criar nossos primeiros **Series** e **DataFrames**.\n"
      ]
    },
    {
      "cell_type": "markdown",
      "id": "a803da86",
      "metadata": {
        "id": "a803da86"
      },
      "source": [
        "\n",
        "### Criando Series\n",
        "\n",
        "Um objeto **Series** pode ser criado a partir de listas, arrays NumPy, ou dicionários.\n",
        "\n",
        "#### Exemplo:\n"
      ]
    },
    {
      "cell_type": "code",
      "execution_count": null,
      "id": "de245f77",
      "metadata": {
        "colab": {
          "base_uri": "https://localhost:8080/"
        },
        "id": "de245f77",
        "outputId": "d1c0933f-048b-45af-f7cc-6cf07c0cdf54"
      },
      "outputs": [
        {
          "name": "stdout",
          "output_type": "stream",
          "text": [
            "<class 'pandas.core.series.Series'>\n",
            "Series simples:\n",
            "0    10\n",
            "1    20\n",
            "2    30\n",
            "3    40\n",
            "dtype: int64\n",
            "Series com rótulos:\n",
            "a    100\n",
            "b    200\n",
            "c    300\n",
            "dtype: int64\n"
          ]
        }
      ],
      "source": [
        "# Importando o Pandas\n",
        "import pandas as pd\n",
        "\n",
        "# Criando uma Series a partir de uma lista\n",
        "series_exemplo = pd.Series([10, 20, 30, 40])#se for minusculo o \"s\" retorna a um erro\n",
        "print(type(series_exemplo))\n",
        "\n",
        "# Criando uma Series com rótulos personalizados\n",
        "series_rotulos = pd.Series([100, 200, 300], index=['a', 'b', 'c'])\n",
        "\n",
        "# Exibindo os resultados\n",
        "print(\"Series simples:\")\n",
        "print(series_exemplo)\n",
        "\n",
        "print(\"Series com rótulos:\")\n",
        "print(series_rotulos)"
      ]
    },
    {
      "cell_type": "markdown",
      "id": "43026234",
      "metadata": {
        "id": "43026234"
      },
      "source": [
        "\n",
        "### Criando DataFrames\n",
        "\n",
        "Um **DataFrame** é uma estrutura de dados bidimensional que pode ser criada a partir de dicionários, listas, ou arrays. Ele é equivalente a uma tabela de dados.\n",
        "\n",
        "#### Exemplo:\n"
      ]
    },
    {
      "cell_type": "code",
      "execution_count": null,
      "id": "c3281693",
      "metadata": {
        "colab": {
          "base_uri": "https://localhost:8080/"
        },
        "id": "c3281693",
        "outputId": "b36a8f56-3e54-4338-a7b0-0a3c924fccd5"
      },
      "outputs": [
        {
          "name": "stdout",
          "output_type": "stream",
          "text": [
            "      Nome  Idade          Cidade\n",
            "a      Ana     23       São Paulo\n",
            "b     João     34  Rio de Janeiro\n",
            "c    Maria     45  Belo Horizonte\n",
            "d  Josimar   1000  Rio de Janeiro\n"
          ]
        }
      ],
      "source": [
        "# Criando um DataFrame a partir de um dicionário\n",
        "dados = {\n",
        "    'Nome': ['Ana', 'João', 'Maria','Josimar'],\n",
        "    'Idade': [23, 34, 45,1000],\n",
        "    'Cidade': ['São Paulo', 'Rio de Janeiro', 'Belo Horizonte','Rio de Janeiro']\n",
        "}\n",
        "\n",
        "df = pd.DataFrame((dados), index=['a','b','c','d'])\n",
        "\n",
        "# Exibindo o DataFrame\n",
        "print(df)\n"
      ]
    },
    {
      "cell_type": "markdown",
      "id": "a7bb3789",
      "metadata": {
        "id": "a7bb3789"
      },
      "source": [
        "\n",
        "## Carregamento e Leitura de Dados\n",
        "\n",
        "Uma das funções mais úteis do Pandas é a capacidade de carregar dados a partir de diferentes formatos, como CSV, Excel, SQL, entre outros.\n",
        "\n",
        "### Lendo um arquivo CSV\n",
        "\n",
        "Podemos usar a função **`pd.read_csv()`** para ler arquivos CSV.\n",
        "\n",
        "#### Exemplo de leitura de arquivo CSV:\n",
        "```python\n",
        "# Carregando um arquivo CSV\n",
        "df = pd.read_csv('dados.csv')\n",
        "```\n",
        "\n",
        "Outras funções úteis:\n",
        "- `pd.read_excel()`: Lê arquivos Excel.\n",
        "- `pd.read_sql()`: Lê dados de um banco de dados SQL.\n",
        "\n",
        "### Salvando um DataFrame\n",
        "\n",
        "Você também pode salvar DataFrames em arquivos CSV ou Excel:\n",
        "```python\n",
        "# Salvando em CSV\n",
        "df.to_csv('saida.csv', index=False)\n",
        "\n",
        "# Salvando em Excel\n",
        "df.to_excel('saida.xlsx', index=False)\n",
        "```\n"
      ]
    },
    {
      "cell_type": "markdown",
      "id": "6e739ae6",
      "metadata": {
        "id": "6e739ae6"
      },
      "source": [
        "\n",
        "## Operações Básicas com DataFrames\n",
        "\n",
        "Com Pandas, podemos realizar várias operações em DataFrames, como:\n",
        "\n",
        "- **Seleção** de colunas ou linhas.\n",
        "- **Filtragem** de dados com base em condições.\n",
        "- **Agrupamento** de dados para análise.\n",
        "\n",
        "### Seleção de Colunas e Linhas\n",
        "\n",
        "#### Exemplo:\n"
      ]
    },
    {
      "cell_type": "code",
      "execution_count": null,
      "id": "68ed9c41",
      "metadata": {
        "colab": {
          "base_uri": "https://localhost:8080/"
        },
        "id": "68ed9c41",
        "outputId": "b0d30c06-949e-4350-90db-8c288fca5557"
      },
      "outputs": [
        {
          "name": "stdout",
          "output_type": "stream",
          "text": [
            "Coluna Nome:\n",
            "a        Ana\n",
            "b       João\n",
            "c      Maria\n",
            "d    Josimar\n",
            "Name: Nome, dtype: object\n",
            "\n",
            "\n",
            "Colunas Nome e Idade:\n",
            "      Nome  Idade\n",
            "a      Ana     23\n",
            "b     João     34\n",
            "c    Maria     45\n",
            "d  Josimar   1000\n",
            "\n",
            "\n",
            "Linha 0:\n",
            "Nome            Ana\n",
            "Idade            23\n",
            "Cidade    São Paulo\n",
            "Name: a, dtype: object\n",
            "\n",
            "\n",
            "Linha com rótulo 'a':\n",
            "Nome            Ana\n",
            "Idade            23\n",
            "Cidade    São Paulo\n",
            "Name: a, dtype: object\n"
          ]
        }
      ],
      "source": [
        "# Selecionando uma coluna\n",
        "print(\"Coluna Nome:\")\n",
        "print(df['Nome'])\n",
        "\n",
        "# Selecionando múltiplas colunas\n",
        "print(\"\\n\\nColunas Nome e Idade:\")\n",
        "print(df[['Nome', 'Idade']])\n",
        "\n",
        "# Selecionando uma linha pelo índice\n",
        "print(\"\\n\\nLinha 0:\")\n",
        "print(df.iloc[0])\n",
        "\n",
        "# Selecionando uma linha pelo rótulo\n",
        "print(\"\\n\\nLinha com rótulo 'a':\")\n",
        "print(df.loc['a'])"
      ]
    },
    {
      "cell_type": "markdown",
      "id": "e85b43b4",
      "metadata": {
        "id": "e85b43b4"
      },
      "source": [
        "\n",
        "### Filtragem de Dados\n",
        "\n",
        "Podemos filtrar os dados de um DataFrame com base em condições, como se fosse um \"filtro\" em uma planilha.\n",
        "\n",
        "#### Exemplo:\n"
      ]
    },
    {
      "cell_type": "code",
      "execution_count": null,
      "id": "b13b5b29",
      "metadata": {
        "colab": {
          "base_uri": "https://localhost:8080/"
        },
        "id": "b13b5b29",
        "outputId": "de70bac2-a3e4-4855-ea4f-f2dc5f6f004e"
      },
      "outputs": [
        {
          "name": "stdout",
          "output_type": "stream",
          "text": [
            "Pessoas com idade maior que 30:\n",
            "      Nome  Idade          Cidade\n",
            "b     João     34  Rio de Janeiro\n",
            "c    Maria     45  Belo Horizonte\n",
            "d  Josimar   1000   Rio de Janero\n"
          ]
        }
      ],
      "source": [
        "# Filtrando pessoas com idade maior que 30\n",
        "filtro_idade = df[df['Idade'] > 30]\n",
        "\n",
        "print(\"Pessoas com idade maior que 30:\")\n",
        "print(filtro_idade)"
      ]
    },
    {
      "cell_type": "markdown",
      "id": "769d744d",
      "metadata": {
        "id": "769d744d"
      },
      "source": [
        "\n",
        "### Agrupamento de Dados\n",
        "\n",
        "A função **`groupby()`** permite agrupar dados por uma coluna, útil para realizar análises de categorias.\n",
        "\n",
        "#### Exemplo:\n"
      ]
    },
    {
      "cell_type": "code",
      "execution_count": null,
      "id": "e6b97d9c",
      "metadata": {
        "colab": {
          "base_uri": "https://localhost:8080/"
        },
        "id": "e6b97d9c",
        "outputId": "235766c3-dd8a-4313-e2a1-23c308f1d080"
      },
      "outputs": [
        {
          "name": "stdout",
          "output_type": "stream",
          "text": [
            "Idade média por cidade:\n",
            "Cidade\n",
            "Belo Horizonte     45.0\n",
            "Rio de Janeiro    517.0\n",
            "São Paulo          23.0\n",
            "Name: Idade, dtype: float64\n"
          ]
        }
      ],
      "source": [
        "# Agrupando por Cidade e calculando a idade média\n",
        "agrupado = df.groupby('Cidade')['Idade'].mean()\n",
        "\n",
        "print(\"Idade média por cidade:\")\n",
        "print(agrupado)"
      ]
    },
    {
      "cell_type": "markdown",
      "id": "7c59dcad",
      "metadata": {
        "id": "7c59dcad"
      },
      "source": [
        "\n",
        "## Limpeza e Transformação de Dados\n",
        "\n",
        "Pandas também oferece ferramentas poderosas para limpeza e transformação de dados, como:\n",
        "\n",
        "- **Tratamento de valores faltantes**.\n",
        "- **Remoção de duplicatas**.\n",
        "- **Renomeação de colunas**.\n",
        "- **Transformação de dados** (como converter tipos de dados).\n",
        "\n",
        "### Tratamento de Valores Faltantes\n",
        "\n",
        "#### Exemplo:\n"
      ]
    },
    {
      "cell_type": "code",
      "execution_count": null,
      "id": "3b5eaf62",
      "metadata": {
        "colab": {
          "base_uri": "https://localhost:8080/"
        },
        "id": "3b5eaf62",
        "outputId": "284ea5b4-929a-45b4-f994-9afc355cd695"
      },
      "outputs": [
        {
          "name": "stdout",
          "output_type": "stream",
          "text": [
            "DataFrame original:\n",
            "    Nome  Idade          Cidade\n",
            "0    Ana   23.0       São Paulo\n",
            "1   João    NaN  Rio de Janeiro\n",
            "2  Maria   45.0            None\n",
            "3  Pedro   30.0        Curitiba\n",
            "DataFrame com valores preenchidos:\n",
            "    Nome          Idade          Cidade\n",
            "0    Ana           23.0       São Paulo\n",
            "1   João  Não informado  Rio de Janeiro\n",
            "2  Maria           45.0   Não informado\n",
            "3  Pedro           30.0        Curitiba\n"
          ]
        }
      ],
      "source": [
        "# Criando um DataFrame com valores faltantes\n",
        "df_com_faltantes = pd.DataFrame({\n",
        "    'Nome': ['Ana', 'João', 'Maria', 'Pedro'],\n",
        "    'Idade': [23, None, 45, 30],\n",
        "    'Cidade': ['São Paulo', 'Rio de Janeiro', None, 'Curitiba']\n",
        "})\n",
        "\n",
        "# Preenchendo valores faltantes com um valor padrão\n",
        "df_preenchido = df_com_faltantes.fillna('Não informado')\n",
        "\n",
        "# Exibindo o DataFrame original e o preenchido\n",
        "print(\"DataFrame original:\")\n",
        "print(df_com_faltantes)\n",
        "print(\"DataFrame com valores preenchidos:\")\n",
        "print(df_preenchido)"
      ]
    },
    {
      "cell_type": "markdown",
      "id": "2f528650",
      "metadata": {
        "id": "2f528650"
      },
      "source": [
        "\n",
        "#### **Mini exercício 1:**\n",
        "Carregue um arquivo CSV com dados de vendas. Exiba as 5 primeiras linhas e a coluna que contém os totais de vendas.\n"
      ]
    },
    {
      "cell_type": "code",
      "execution_count": null,
      "id": "80c857ac",
      "metadata": {
        "id": "80c857ac"
      },
      "outputs": [],
      "source": [
        "# Resposta Mini exercício 1\n",
        "# df_vendas = pd.read_csv('vendas.csv')\n",
        "# print(df_vendas.head())\n",
        "# print(df_vendas['Total_Vendas'])"
      ]
    },
    {
      "cell_type": "markdown",
      "id": "4e2a52d8",
      "metadata": {
        "id": "4e2a52d8"
      },
      "source": [
        "\n",
        "#### **Mini exercício 2:**\n",
        "Filtre as vendas que ocorreram no ano de 2023 e calcule o valor total dessas vendas.\n"
      ]
    },
    {
      "cell_type": "code",
      "execution_count": null,
      "id": "4dfa30a9",
      "metadata": {
        "id": "4dfa30a9"
      },
      "outputs": [],
      "source": [
        "# Resposta Mini exercício 2\n",
        "# vendas_2023 = df_vendas[df_vendas['Ano'] == 2023]\n",
        "# total_vendas_2023 = vendas_2023['Total_Vendas'].sum()\n",
        "# print(\"Total de vendas em 2023:\", total_vendas_2023)"
      ]
    }
  ],
  "metadata": {
    "colab": {
      "provenance": []
    },
    "kernelspec": {
      "display_name": "Python 3",
      "name": "python3"
    },
    "language_info": {
      "name": "python"
    }
  },
  "nbformat": 4,
  "nbformat_minor": 5
}
