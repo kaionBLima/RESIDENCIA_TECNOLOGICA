{
  "cells": [
    {
      "cell_type": "markdown",
      "id": "a2eee156",
      "metadata": {
        "id": "a2eee156"
      },
      "source": [
        "# Aula de Manipulação de Dados com Pandas\n",
        "Lista de Exercícios usando dados.csv e dados2.csv"
      ]
    },
    {
      "cell_type": "code",
      "source": [
        "import pandas as pd"
      ],
      "metadata": {
        "id": "7EWG8Pg0jgwh"
      },
      "id": "7EWG8Pg0jgwh",
      "execution_count": 1,
      "outputs": []
    },
    {
      "cell_type": "markdown",
      "id": "74877458",
      "metadata": {
        "id": "74877458"
      },
      "source": [
        "## 1. Carregamento de Dados\n",
        "Carregue o arquivo `dados.csv` e mostre as 10 primeiras linhas."
      ]
    },
    {
      "cell_type": "markdown",
      "id": "0a20cb22",
      "metadata": {
        "id": "0a20cb22"
      },
      "source": [
        "## 2. Seleção de Colunas\n",
        "Selecione a coluna `nome`."
      ]
    },
    {
      "cell_type": "markdown",
      "id": "77910848",
      "metadata": {
        "id": "77910848"
      },
      "source": [
        "## 3. Exclusão de Colunas\n",
        "Remova a coluna `error404` e mostre o DataFrame."
      ]
    },
    {
      "cell_type": "markdown",
      "id": "82b80bbf",
      "metadata": {
        "id": "82b80bbf"
      },
      "source": [
        "## 4. Filtro por Condição\n",
        "Filtre apenas as pessoas com idade maior que 25 anos."
      ]
    },
    {
      "cell_type": "markdown",
      "id": "65721779",
      "metadata": {
        "id": "65721779"
      },
      "source": [
        "## 5. Ordenação de Dados\n",
        "Ordene os dados pelo salário de forma decrescente."
      ]
    },
    {
      "cell_type": "markdown",
      "id": "bd508a6a",
      "metadata": {
        "id": "bd508a6a"
      },
      "source": [
        "## 6. Tratamento de Dados Nulos\n",
        "Preencha valores nulos da coluna `cidade` com `Desconhecido`."
      ]
    },
    {
      "cell_type": "markdown",
      "id": "9272ec3b",
      "metadata": {
        "id": "9272ec3b"
      },
      "source": [
        "## 7. Criação de Novas Colunas\n",
        "Crie uma nova coluna `dobro_idade` que seja o dobro da idade."
      ]
    },
    {
      "cell_type": "markdown",
      "id": "da5bded1",
      "metadata": {
        "id": "da5bded1"
      },
      "source": [
        "## 8. Agrupamento e Agregação\n",
        "Calcule a média de salário por departamento."
      ]
    },
    {
      "cell_type": "markdown",
      "id": "b8e11230",
      "metadata": {
        "id": "b8e11230"
      },
      "source": [
        "## 9. Resetando Índices\n",
        "Resete os índices do DataFrame."
      ]
    },
    {
      "cell_type": "markdown",
      "id": "34bc9528",
      "metadata": {
        "id": "34bc9528"
      },
      "source": [
        "## 10. Filtro com Condição de Texto\n",
        "Filtre as pessoas cujo nome começa com a letra \"A\"."
      ]
    },
    {
      "cell_type": "markdown",
      "id": "d969a2ce",
      "metadata": {
        "id": "d969a2ce"
      },
      "source": [
        "## 11. Filtragem Avançada\n",
        "Filtre registros duplicados pela coluna `nome`."
      ]
    },
    {
      "cell_type": "markdown",
      "id": "8fd611aa",
      "metadata": {
        "id": "8fd611aa"
      },
      "source": [
        "## 12. Concatenação de DataFrames\n",
        "concatene os dois DataFrames"
      ]
    },
    {
      "cell_type": "markdown",
      "id": "619116b0",
      "metadata": {
        "id": "619116b0"
      },
      "source": [
        "## 13. Junção de DataFrames\n",
        "Faça um merge entre `df` e `dados2.csv` usando a coluna `id`."
      ]
    },
    {
      "cell_type": "markdown",
      "id": "8f7b92aa",
      "metadata": {
        "id": "8f7b92aa"
      },
      "source": [
        "## 14. Contagem de Valores Únicos\n",
        "Conte o número de estados únicos."
      ]
    },
    {
      "cell_type": "markdown",
      "id": "4cd240bb",
      "metadata": {
        "id": "4cd240bb"
      },
      "source": [
        "## 15. Categorização de Dados\n",
        "Crie uma coluna `faixa_etaria` categorizando a idade em jovem/adulto/idoso."
      ]
    },
    {
      "cell_type": "markdown",
      "id": "e4c2dca6",
      "metadata": {
        "id": "e4c2dca6"
      },
      "source": [
        "## 16. Remoção de Duplicatas\n",
        "Remova duplicatas considerando `email` e `telefone`."
      ]
    }
  ],
  "metadata": {
    "colab": {
      "provenance": []
    },
    "language_info": {
      "name": "python"
    },
    "kernelspec": {
      "name": "python3",
      "display_name": "Python 3"
    }
  },
  "nbformat": 4,
  "nbformat_minor": 5
}