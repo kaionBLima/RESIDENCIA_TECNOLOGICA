{
 "cells": [
  {
   "cell_type": "markdown",
   "id": "3418a2ff",
   "metadata": {},
   "source": [
    "# Exercícios de Manipulação de Dados com pandas\n",
    "\n",
    "Responda aos exercícios abaixo utilizando as funcionalidades da biblioteca pandas."
   ]
  },
  {
   "cell_type": "markdown",
   "id": "2e2d2f2d",
   "metadata": {},
   "source": [
    "### Exercício 1\n",
    "Crie uma `Series` com os números 5, 10, 15 e 20. Em seguida, exiba essa `Series`."
   ]
  },
  {
   "cell_type": "code",
   "execution_count": null,
   "id": "1bf11d4f",
   "metadata": {},
   "outputs": [],
   "source": [
    "# Exercício 1\n",
    "import pandas as pd\n"
   ]
  },
  {
   "cell_type": "markdown",
   "id": "7bd3b8ee",
   "metadata": {},
   "source": [
    "### Exercício 2\n",
    "Crie uma `Series` com os valores 100, 200, 300 e índices personalizados 'x', 'y', 'z'. Exiba a `Series` resultante."
   ]
  },
  {
   "cell_type": "code",
   "execution_count": null,
   "id": "0bba2a44",
   "metadata": {},
   "outputs": [],
   "source": [
    "# Exercício 2"
   ]
  },
  {
   "cell_type": "markdown",
   "id": "5469c13f",
   "metadata": {},
   "source": [
    "### Exercício 3\n",
    "Construa um `DataFrame` a partir de um dicionário com as seguintes chaves e valores:\n",
    "- `'Produto'`: ['Caderno', 'Lápis', 'Caneta']\n",
    "- `'Preço'`: [10, 2, 3]\n",
    "- `'Estoque'`: [100, 300, 150]  \n",
    "Exiba o `DataFrame`."
   ]
  },
  {
   "cell_type": "code",
   "execution_count": null,
   "id": "5a782461",
   "metadata": {},
   "outputs": [],
   "source": [
    "# Exercício 3"
   ]
  },
  {
   "cell_type": "markdown",
   "id": "781a3379",
   "metadata": {},
   "source": [
    "### Exercício 4\n",
    "Selecione e exiba apenas a coluna `'Produto'` do `DataFrame` criado no exercício anterior."
   ]
  },
  {
   "cell_type": "code",
   "execution_count": null,
   "id": "213366cf",
   "metadata": {},
   "outputs": [],
   "source": [
    "# Exercício 4"
   ]
  },
  {
   "cell_type": "markdown",
   "id": "f90795b7",
   "metadata": {},
   "source": [
    "### Exercício 5\n",
    "Selecione e exiba as colunas `'Produto'` e `'Estoque'` do `DataFrame`."
   ]
  },
  {
   "cell_type": "code",
   "execution_count": null,
   "id": "6787f15c",
   "metadata": {},
   "outputs": [],
   "source": [
    "# Exercício 5"
   ]
  },
  {
   "cell_type": "markdown",
   "id": "f3d2c21a",
   "metadata": {},
   "source": [
    "### Exercício 6\n",
    "Exiba a primeira linha do `DataFrame` usando `iloc`."
   ]
  },
  {
   "cell_type": "code",
   "execution_count": null,
   "id": "33b8dbbb",
   "metadata": {},
   "outputs": [],
   "source": [
    "# Exercício 6"
   ]
  },
  {
   "cell_type": "markdown",
   "id": "18dd8463",
   "metadata": {},
   "source": [
    "### Exercício 7\n",
    "Exiba a segunda linha do `DataFrame` usando `loc`."
   ]
  },
  {
   "cell_type": "code",
   "execution_count": null,
   "id": "dbeda689",
   "metadata": {},
   "outputs": [],
   "source": [
    "# Exercício 7"
   ]
  },
  {
   "cell_type": "markdown",
   "id": "b46e756a",
   "metadata": {},
   "source": [
    "### Exercício 8\n",
    "Filtre os produtos cujo preço seja maior que 2. Exiba o resultado."
   ]
  },
  {
   "cell_type": "code",
   "execution_count": null,
   "id": "e4861140",
   "metadata": {},
   "outputs": [],
   "source": [
    "# Exercício 8"
   ]
  },
  {
   "cell_type": "markdown",
   "id": "340fc786",
   "metadata": {},
   "source": [
    "### Exercício 9\n",
    "Crie uma nova coluna chamada `'Loja'` com os valores: ['Loja A', 'Loja B', 'Loja A']. Em seguida, agrupe os dados por `'Loja'` e calcule a **soma** de `'Estoque'`."
   ]
  },
  {
   "cell_type": "code",
   "execution_count": null,
   "id": "bb89751d",
   "metadata": {},
   "outputs": [],
   "source": [
    "# Exercício 9"
   ]
  },
  {
   "cell_type": "markdown",
   "id": "0d69f5d8",
   "metadata": {},
   "source": [
    "### Exercício 10\n",
    "Adicione uma nova coluna chamada `'Valor Total'`, que seja o resultado de `'Preço'` multiplicado por `'Estoque'`. Exiba o `DataFrame` com essa nova coluna."
   ]
  },
  {
   "cell_type": "code",
   "execution_count": null,
   "id": "c2fcaeed",
   "metadata": {},
   "outputs": [],
   "source": [
    "# Exercício 10"
   ]
  }
 ],
 "metadata": {},
 "nbformat": 4,
 "nbformat_minor": 5
}
